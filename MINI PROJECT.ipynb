{
  "nbformat": 4,
  "nbformat_minor": 0,
  "metadata": {
    "colab": {
      "name": "Copy of Welcome To Colaboratory",
      "provenance": [],
      "collapsed_sections": []
    },
    "kernelspec": {
      "display_name": "Python 3",
      "name": "python3"
    }
  },
  "cells": [
    {
      "cell_type": "markdown",
      "metadata": {
        "id": "LNp58MxFePjN"
      },
      "source": [
        "# IMPORTING TIME LIB"
      ]
    },
    {
      "cell_type": "code",
      "metadata": {
        "colab": {
          "base_uri": "https://localhost:8080/"
        },
        "id": "eczyKiPXeLyK",
        "outputId": "aff27234-d907-4614-aa8b-fe0acb46049b"
      },
      "source": [
        "!pip install ipython-autotime\n",
        "%load_ext autotime"
      ],
      "execution_count": 2,
      "outputs": [
        {
          "output_type": "stream",
          "text": [
            "Collecting ipython-autotime\n",
            "  Downloading https://files.pythonhosted.org/packages/b4/c9/b413a24f759641bc27ef98c144b590023c8038dfb8a3f09e713e9dff12c1/ipython_autotime-0.3.1-py2.py3-none-any.whl\n",
            "Requirement already satisfied: ipython in /usr/local/lib/python3.7/dist-packages (from ipython-autotime) (5.5.0)\n",
            "Requirement already satisfied: pygments in /usr/local/lib/python3.7/dist-packages (from ipython->ipython-autotime) (2.6.1)\n",
            "Requirement already satisfied: setuptools>=18.5 in /usr/local/lib/python3.7/dist-packages (from ipython->ipython-autotime) (54.1.2)\n",
            "Requirement already satisfied: traitlets>=4.2 in /usr/local/lib/python3.7/dist-packages (from ipython->ipython-autotime) (5.0.5)\n",
            "Requirement already satisfied: pickleshare in /usr/local/lib/python3.7/dist-packages (from ipython->ipython-autotime) (0.7.5)\n",
            "Requirement already satisfied: decorator in /usr/local/lib/python3.7/dist-packages (from ipython->ipython-autotime) (4.4.2)\n",
            "Requirement already satisfied: prompt-toolkit<2.0.0,>=1.0.4 in /usr/local/lib/python3.7/dist-packages (from ipython->ipython-autotime) (1.0.18)\n",
            "Requirement already satisfied: pexpect; sys_platform != \"win32\" in /usr/local/lib/python3.7/dist-packages (from ipython->ipython-autotime) (4.8.0)\n",
            "Requirement already satisfied: simplegeneric>0.8 in /usr/local/lib/python3.7/dist-packages (from ipython->ipython-autotime) (0.8.1)\n",
            "Requirement already satisfied: ipython-genutils in /usr/local/lib/python3.7/dist-packages (from traitlets>=4.2->ipython->ipython-autotime) (0.2.0)\n",
            "Requirement already satisfied: six>=1.9.0 in /usr/local/lib/python3.7/dist-packages (from prompt-toolkit<2.0.0,>=1.0.4->ipython->ipython-autotime) (1.15.0)\n",
            "Requirement already satisfied: wcwidth in /usr/local/lib/python3.7/dist-packages (from prompt-toolkit<2.0.0,>=1.0.4->ipython->ipython-autotime) (0.2.5)\n",
            "Requirement already satisfied: ptyprocess>=0.5 in /usr/local/lib/python3.7/dist-packages (from pexpect; sys_platform != \"win32\"->ipython->ipython-autotime) (0.7.0)\n",
            "Installing collected packages: ipython-autotime\n",
            "Successfully installed ipython-autotime-0.3.1\n",
            "time: 152 µs (started: 2021-03-28 18:30:52 +00:00)\n"
          ],
          "name": "stdout"
        }
      ]
    },
    {
      "cell_type": "markdown",
      "metadata": {
        "id": "OibkVj4sIxw4"
      },
      "source": [
        "# Importing the libraries"
      ]
    },
    {
      "cell_type": "code",
      "metadata": {
        "id": "zAe_JDN5ImqO",
        "colab": {
          "base_uri": "https://localhost:8080/"
        },
        "outputId": "0ea4928f-f92f-4e4c-e2a8-b267c6cddd23"
      },
      "source": [
        "import numpy as np\n",
        "import pandas as pd\n",
        "import matplotlib.pyplot as plt\n",
        "from sklearn.preprocessing import LabelEncoder\n",
        "from sklearn.impute import SimpleImputer\n",
        "from sklearn.preprocessing import OneHotEncoder"
      ],
      "execution_count": 3,
      "outputs": [
        {
          "output_type": "stream",
          "text": [
            "time: 959 ms (started: 2021-03-28 18:30:52 +00:00)\n"
          ],
          "name": "stdout"
        }
      ]
    },
    {
      "cell_type": "markdown",
      "metadata": {
        "id": "4nG2XmI6JDCc"
      },
      "source": [
        "# Importing the traning Dataset"
      ]
    },
    {
      "cell_type": "code",
      "metadata": {
        "id": "g-fkHOjoJLPL",
        "colab": {
          "base_uri": "https://localhost:8080/"
        },
        "outputId": "615b9a8c-d287-4909-860f-505846ff2491"
      },
      "source": [
        "dataset = pd.read_csv('aug_train.csv')"
      ],
      "execution_count": 4,
      "outputs": [
        {
          "output_type": "stream",
          "text": [
            "time: 33.5 ms (started: 2021-03-28 18:30:53 +00:00)\n"
          ],
          "name": "stdout"
        }
      ]
    },
    {
      "cell_type": "markdown",
      "metadata": {
        "id": "9Crg234nJU5z"
      },
      "source": [
        "#Taking care of missing data"
      ]
    },
    {
      "cell_type": "code",
      "metadata": {
        "id": "Gn07-6tCJgwn",
        "colab": {
          "base_uri": "https://localhost:8080/",
          "height": 607
        },
        "outputId": "0829fc11-e94f-46d4-ee70-363516c4fb5d"
      },
      "source": [
        "dataset = dataset.dropna()\n",
        "dataset"
      ],
      "execution_count": 5,
      "outputs": [
        {
          "output_type": "execute_result",
          "data": {
            "text/html": [
              "<div>\n",
              "<style scoped>\n",
              "    .dataframe tbody tr th:only-of-type {\n",
              "        vertical-align: middle;\n",
              "    }\n",
              "\n",
              "    .dataframe tbody tr th {\n",
              "        vertical-align: top;\n",
              "    }\n",
              "\n",
              "    .dataframe thead th {\n",
              "        text-align: right;\n",
              "    }\n",
              "</style>\n",
              "<table border=\"1\" class=\"dataframe\">\n",
              "  <thead>\n",
              "    <tr style=\"text-align: right;\">\n",
              "      <th></th>\n",
              "      <th>enrollee_id</th>\n",
              "      <th>city</th>\n",
              "      <th>city_development_index</th>\n",
              "      <th>gender</th>\n",
              "      <th>relevent_experience</th>\n",
              "      <th>enrolled_university</th>\n",
              "      <th>education_level</th>\n",
              "      <th>major_discipline</th>\n",
              "      <th>experience</th>\n",
              "      <th>company_size</th>\n",
              "      <th>company_type</th>\n",
              "      <th>last_new_job</th>\n",
              "      <th>training_hours</th>\n",
              "      <th>target</th>\n",
              "    </tr>\n",
              "  </thead>\n",
              "  <tbody>\n",
              "    <tr>\n",
              "      <th>1</th>\n",
              "      <td>29725</td>\n",
              "      <td>city_40</td>\n",
              "      <td>0.776</td>\n",
              "      <td>Male</td>\n",
              "      <td>No relevent experience</td>\n",
              "      <td>no_enrollment</td>\n",
              "      <td>Graduate</td>\n",
              "      <td>STEM</td>\n",
              "      <td>15</td>\n",
              "      <td>50-99</td>\n",
              "      <td>Pvt Ltd</td>\n",
              "      <td>&gt;4</td>\n",
              "      <td>47.0</td>\n",
              "      <td>0.0</td>\n",
              "    </tr>\n",
              "    <tr>\n",
              "      <th>4</th>\n",
              "      <td>666</td>\n",
              "      <td>city_162</td>\n",
              "      <td>0.767</td>\n",
              "      <td>Male</td>\n",
              "      <td>Has relevent experience</td>\n",
              "      <td>no_enrollment</td>\n",
              "      <td>Masters</td>\n",
              "      <td>STEM</td>\n",
              "      <td>&gt;20</td>\n",
              "      <td>50-99</td>\n",
              "      <td>Funded Startup</td>\n",
              "      <td>4</td>\n",
              "      <td>8.0</td>\n",
              "      <td>0.0</td>\n",
              "    </tr>\n",
              "    <tr>\n",
              "      <th>7</th>\n",
              "      <td>402</td>\n",
              "      <td>city_46</td>\n",
              "      <td>0.762</td>\n",
              "      <td>Male</td>\n",
              "      <td>Has relevent experience</td>\n",
              "      <td>no_enrollment</td>\n",
              "      <td>Graduate</td>\n",
              "      <td>STEM</td>\n",
              "      <td>13</td>\n",
              "      <td>&lt;10</td>\n",
              "      <td>Pvt Ltd</td>\n",
              "      <td>&gt;4</td>\n",
              "      <td>18.0</td>\n",
              "      <td>1.0</td>\n",
              "    </tr>\n",
              "    <tr>\n",
              "      <th>8</th>\n",
              "      <td>27107</td>\n",
              "      <td>city_103</td>\n",
              "      <td>0.920</td>\n",
              "      <td>Male</td>\n",
              "      <td>Has relevent experience</td>\n",
              "      <td>no_enrollment</td>\n",
              "      <td>Graduate</td>\n",
              "      <td>STEM</td>\n",
              "      <td>7</td>\n",
              "      <td>50-99</td>\n",
              "      <td>Pvt Ltd</td>\n",
              "      <td>1</td>\n",
              "      <td>46.0</td>\n",
              "      <td>1.0</td>\n",
              "    </tr>\n",
              "    <tr>\n",
              "      <th>11</th>\n",
              "      <td>23853</td>\n",
              "      <td>city_103</td>\n",
              "      <td>0.920</td>\n",
              "      <td>Male</td>\n",
              "      <td>Has relevent experience</td>\n",
              "      <td>no_enrollment</td>\n",
              "      <td>Graduate</td>\n",
              "      <td>STEM</td>\n",
              "      <td>5</td>\n",
              "      <td>5000-9999</td>\n",
              "      <td>Pvt Ltd</td>\n",
              "      <td>1</td>\n",
              "      <td>108.0</td>\n",
              "      <td>0.0</td>\n",
              "    </tr>\n",
              "    <tr>\n",
              "      <th>...</th>\n",
              "      <td>...</td>\n",
              "      <td>...</td>\n",
              "      <td>...</td>\n",
              "      <td>...</td>\n",
              "      <td>...</td>\n",
              "      <td>...</td>\n",
              "      <td>...</td>\n",
              "      <td>...</td>\n",
              "      <td>...</td>\n",
              "      <td>...</td>\n",
              "      <td>...</td>\n",
              "      <td>...</td>\n",
              "      <td>...</td>\n",
              "      <td>...</td>\n",
              "    </tr>\n",
              "    <tr>\n",
              "      <th>10220</th>\n",
              "      <td>11772</td>\n",
              "      <td>city_102</td>\n",
              "      <td>0.804</td>\n",
              "      <td>Male</td>\n",
              "      <td>Has relevent experience</td>\n",
              "      <td>no_enrollment</td>\n",
              "      <td>Masters</td>\n",
              "      <td>STEM</td>\n",
              "      <td>11</td>\n",
              "      <td>1000-4999</td>\n",
              "      <td>Pvt Ltd</td>\n",
              "      <td>1</td>\n",
              "      <td>15.0</td>\n",
              "      <td>1.0</td>\n",
              "    </tr>\n",
              "    <tr>\n",
              "      <th>10222</th>\n",
              "      <td>4580</td>\n",
              "      <td>city_21</td>\n",
              "      <td>0.624</td>\n",
              "      <td>Male</td>\n",
              "      <td>Has relevent experience</td>\n",
              "      <td>no_enrollment</td>\n",
              "      <td>Masters</td>\n",
              "      <td>STEM</td>\n",
              "      <td>9</td>\n",
              "      <td>10/49</td>\n",
              "      <td>Early Stage Startup</td>\n",
              "      <td>1</td>\n",
              "      <td>79.0</td>\n",
              "      <td>1.0</td>\n",
              "    </tr>\n",
              "    <tr>\n",
              "      <th>10225</th>\n",
              "      <td>15495</td>\n",
              "      <td>city_114</td>\n",
              "      <td>0.926</td>\n",
              "      <td>Male</td>\n",
              "      <td>Has relevent experience</td>\n",
              "      <td>no_enrollment</td>\n",
              "      <td>Masters</td>\n",
              "      <td>STEM</td>\n",
              "      <td>10</td>\n",
              "      <td>1000-4999</td>\n",
              "      <td>Pvt Ltd</td>\n",
              "      <td>1</td>\n",
              "      <td>62.0</td>\n",
              "      <td>0.0</td>\n",
              "    </tr>\n",
              "    <tr>\n",
              "      <th>10229</th>\n",
              "      <td>16616</td>\n",
              "      <td>city_114</td>\n",
              "      <td>0.926</td>\n",
              "      <td>Male</td>\n",
              "      <td>Has relevent experience</td>\n",
              "      <td>no_enrollment</td>\n",
              "      <td>Masters</td>\n",
              "      <td>STEM</td>\n",
              "      <td>11</td>\n",
              "      <td>100-500</td>\n",
              "      <td>Funded Startup</td>\n",
              "      <td>1</td>\n",
              "      <td>82.0</td>\n",
              "      <td>0.0</td>\n",
              "    </tr>\n",
              "    <tr>\n",
              "      <th>10232</th>\n",
              "      <td>16221</td>\n",
              "      <td>city_102</td>\n",
              "      <td>0.804</td>\n",
              "      <td>Male</td>\n",
              "      <td>Has relevent experience</td>\n",
              "      <td>no_enrollment</td>\n",
              "      <td>Masters</td>\n",
              "      <td>STEM</td>\n",
              "      <td>&gt;20</td>\n",
              "      <td>500-999</td>\n",
              "      <td>Pvt Ltd</td>\n",
              "      <td>&gt;4</td>\n",
              "      <td>168.0</td>\n",
              "      <td>0.0</td>\n",
              "    </tr>\n",
              "  </tbody>\n",
              "</table>\n",
              "<p>4830 rows × 14 columns</p>\n",
              "</div>"
            ],
            "text/plain": [
              "       enrollee_id      city  ...  training_hours target\n",
              "1            29725   city_40  ...            47.0    0.0\n",
              "4              666  city_162  ...             8.0    0.0\n",
              "7              402   city_46  ...            18.0    1.0\n",
              "8            27107  city_103  ...            46.0    1.0\n",
              "11           23853  city_103  ...           108.0    0.0\n",
              "...            ...       ...  ...             ...    ...\n",
              "10220        11772  city_102  ...            15.0    1.0\n",
              "10222         4580   city_21  ...            79.0    1.0\n",
              "10225        15495  city_114  ...            62.0    0.0\n",
              "10229        16616  city_114  ...            82.0    0.0\n",
              "10232        16221  city_102  ...           168.0    0.0\n",
              "\n",
              "[4830 rows x 14 columns]"
            ]
          },
          "metadata": {
            "tags": []
          },
          "execution_count": 5
        },
        {
          "output_type": "stream",
          "text": [
            "time: 101 ms (started: 2021-03-28 18:30:53 +00:00)\n"
          ],
          "name": "stdout"
        }
      ]
    },
    {
      "cell_type": "markdown",
      "metadata": {
        "id": "ow-ZUOT-oCoc"
      },
      "source": [
        "#  Visualizing target value"
      ]
    },
    {
      "cell_type": "code",
      "metadata": {
        "colab": {
          "base_uri": "https://localhost:8080/",
          "height": 610
        },
        "id": "9SNM86XRophm",
        "outputId": "e2234d9e-dbbf-417a-9da5-d06aa81b0718"
      },
      "source": [
        "values = dataset['target'].value_counts().values.tolist()\n",
        "labels = dataset['target'].value_counts().index\n",
        "plt.figure(figsize= (10,10))\n",
        "plt.title('Comparing labels of target feature')\n",
        "plt.pie(x = values, labels = labels, autopct='%1.1f%%', pctdistance= .7)\n",
        "plt.show()"
      ],
      "execution_count": 6,
      "outputs": [
        {
          "output_type": "display_data",
          "data": {
            "image/png": "[encoded data removed]",
            "text/plain": [
              "<Figure size 720x720 with 1 Axes>"
            ]
          },
          "metadata": {
            "tags": []
          }
        },
        {
          "output_type": "stream",
          "text": [
            "time: 125 ms (started: 2021-03-28 18:30:55 +00:00)\n"
          ],
          "name": "stdout"
        }
      ]
    },
    {
      "cell_type": "markdown",
      "metadata": {
        "id": "LvKgsYfrpGyf"
      },
      "source": [
        "# Visualizing gender column"
      ]
    },
    {
      "cell_type": "code",
      "metadata": {
        "colab": {
          "base_uri": "https://localhost:8080/",
          "height": 778
        },
        "id": "mqDKltNTvM4e",
        "outputId": "d1544456-9838-4188-db9f-4e27a66038df"
      },
      "source": [
        "labels = dataset['gender'].value_counts().index\n",
        "values = dataset['gender'].value_counts().tolist()\n",
        "plt.figure(figsize= (10,10))\n",
        "plt.title('Gender Distribution Pie Chart')\n",
        "plt.pie(x = values, labels = labels, autopct='%1.2f%%', pctdistance= .7, shadow=True)"
      ],
      "execution_count": 7,
      "outputs": [
        {
          "output_type": "execute_result",
          "data": {
            "text/plain": [
              "([<matplotlib.patches.Wedge at 0x7f288788c7d0>,\n",
              "  <matplotlib.patches.Wedge at 0x7f2887895190>,\n",
              "  <matplotlib.patches.Wedge at 0x7f2887895d50>],\n",
              " [Text(-1.0511300921469773, 0.3242306731064897, 'Male'),\n",
              "  Text(1.0425680810241225, -0.3507873949127574, 'Female'),\n",
              "  Text(1.0996461060865428, -0.027900562157489307, 'Other')],\n",
              " [Text(-0.6689009677298945, 0.20632861015867524, '90.48%'),\n",
              "  Text(0.6634524151971688, -0.2232283422172092, '8.72%'),\n",
              "  Text(0.6997747947823453, -0.017754903191129556, '0.81%')])"
            ]
          },
          "metadata": {
            "tags": []
          },
          "execution_count": 7
        },
        {
          "output_type": "display_data",
          "data": {
            "image/png": "[encoded data removed]",
            "text/plain": [
              "<Figure size 720x720 with 1 Axes>"
            ]
          },
          "metadata": {
            "tags": []
          }
        },
        {
          "output_type": "stream",
          "text": [
            "time: 147 ms (started: 2021-03-28 18:30:57 +00:00)\n"
          ],
          "name": "stdout"
        }
      ]
    },
    {
      "cell_type": "markdown",
      "metadata": {
        "id": "0cCLYHuqwz8M"
      },
      "source": [
        "# Visualizing relevant_experience column"
      ]
    },
    {
      "cell_type": "code",
      "metadata": {
        "colab": {
          "base_uri": "https://localhost:8080/",
          "height": 722
        },
        "id": "cMzajqbbxS2n",
        "outputId": "10dfe0d2-b674-48b0-9bf8-98158ab0a8f8"
      },
      "source": [
        "labels = dataset['relevent_experience'].value_counts().index\n",
        "values = dataset['relevent_experience'].value_counts().tolist()\n",
        "plt.figure(figsize= (10,10))\n",
        "plt.title('relevent_experience Distribution Pie Chart')\n",
        "plt.pie(x=values, labels=labels, autopct=\"%1.2f%%\", shadow=True, explode=[0, 0.2])"
      ],
      "execution_count": 8,
      "outputs": [
        {
          "output_type": "execute_result",
          "data": {
            "text/plain": [
              "([<matplotlib.patches.Wedge at 0x7f2887869c90>,\n",
              "  <matplotlib.patches.Wedge at 0x7f28877f76d0>],\n",
              " [Text(-1.0183765258684943, 0.4158235822557641, 'Has relevent experience'),\n",
              "  Text(1.2035358942082204, -0.4914278699386304, 'No relevent experience')],\n",
              " [Text(-0.5554781050191786, 0.22681286304859855, '87.66%'),\n",
              "  Text(0.7406374733589048, -0.30241715073146486, '12.34%')])"
            ]
          },
          "metadata": {
            "tags": []
          },
          "execution_count": 8
        },
        {
          "output_type": "display_data",
          "data": {
            "image/png": "[encoded data removed]",
            "text/plain": [
              "<Figure size 720x720 with 1 Axes>"
            ]
          },
          "metadata": {
            "tags": []
          }
        },
        {
          "output_type": "stream",
          "text": [
            "time: 155 ms (started: 2021-03-28 18:30:58 +00:00)\n"
          ],
          "name": "stdout"
        }
      ]
    },
    {
      "cell_type": "markdown",
      "metadata": {
        "id": "nCU7jXz40gvG"
      },
      "source": [
        "# Visualizing  enrolled_university column"
      ]
    },
    {
      "cell_type": "code",
      "metadata": {
        "colab": {
          "base_uri": "https://localhost:8080/",
          "height": 778
        },
        "id": "mpegm3IH0qNK",
        "outputId": "1661b0ea-1453-4f7a-b628-1d9c82d177c1"
      },
      "source": [
        "labels = dataset['enrolled_university'].value_counts().index\n",
        "values = dataset['enrolled_university'].value_counts().tolist()\n",
        "plt.figure(figsize= (10,10))\n",
        "plt.title('enrolled_university Distribution Pie Chart')\n",
        "plt.pie(x=values, labels=labels, autopct=\"%1.2f%%\", shadow=True, explode=[0, 0.2,.3])"
      ],
      "execution_count": 9,
      "outputs": [
        {
          "output_type": "execute_result",
          "data": {
            "text/plain": [
              "([<matplotlib.patches.Wedge at 0x7f28877d00d0>,\n",
              "  <matplotlib.patches.Wedge at 0x7f28877d0090>,\n",
              "  <matplotlib.patches.Wedge at 0x7f28877d7690>],\n",
              " [Text(-0.9740271998079395, 0.5111467636934663, 'no_enrollment'),\n",
              "  Text(1.0231980964777987, -0.8019137455887696, 'Full time course'),\n",
              "  Text(1.3770110107577223, -0.25266712538831837, 'Part time course')],\n",
              " [Text(-0.5312875635316033, 0.2788073256509816, '84.62%'),\n",
              "  Text(0.6296603670632607, -0.4934853819007812, '9.61%'),\n",
              "  Text(0.8852213640585357, -0.1624288663210618, '5.78%')])"
            ]
          },
          "metadata": {
            "tags": []
          },
          "execution_count": 9
        },
        {
          "output_type": "display_data",
          "data": {
            "image/png": "[encoded data removed]",
            "text/plain": [
              "<Figure size 720x720 with 1 Axes>"
            ]
          },
          "metadata": {
            "tags": []
          }
        },
        {
          "output_type": "stream",
          "text": [
            "time: 169 ms (started: 2021-03-28 18:31:00 +00:00)\n"
          ],
          "name": "stdout"
        }
      ]
    },
    {
      "cell_type": "markdown",
      "metadata": {
        "id": "nXqewLns1JwH"
      },
      "source": [
        "# Visualizing education_level column\n",
        "\n"
      ]
    },
    {
      "cell_type": "code",
      "metadata": {
        "colab": {
          "base_uri": "https://localhost:8080/",
          "height": 778
        },
        "id": "LfxA_uhB1UHp",
        "outputId": "e6b8c79c-f420-403a-f7db-d74b8ef77f19"
      },
      "source": [
        "labels = dataset['education_level'].value_counts().index\n",
        "values = dataset['education_level'].value_counts().tolist()\n",
        "plt.figure(figsize= (10,10))\n",
        "plt.title('education_level Distribution Pie Chart')\n",
        "plt.pie(x=values, labels=labels, autopct=\"%1.2f%%\", shadow=True, explode=[0, 0.05,.1])"
      ],
      "execution_count": 10,
      "outputs": [
        {
          "output_type": "execute_result",
          "data": {
            "text/plain": [
              "([<matplotlib.patches.Wedge at 0x7f28877f0dd0>,\n",
              "  <matplotlib.patches.Wedge at 0x7f288781f250>,\n",
              "  <matplotlib.patches.Wedge at 0x7f2887823690>],\n",
              " [Text(-0.6465637441936393, 0.8899187180267096, 'Graduate'),\n",
              "  Text(0.5943227792282036, -0.9845204081635199, 'Masters'),\n",
              "  Text(1.195646509310653, -0.10212455519242541, 'Phd')],\n",
              " [Text(-0.3526711331965305, 0.4854102098327506, '70.00%'),\n",
              "  Text(0.335921570868115, -0.5564680567880764, '27.29%'),\n",
              "  Text(0.6974604637645476, -0.05957265719558148, '2.71%')])"
            ]
          },
          "metadata": {
            "tags": []
          },
          "execution_count": 10
        },
        {
          "output_type": "display_data",
          "data": {
            "image/png": "[encoded data removed]",
            "text/plain": [
              "<Figure size 720x720 with 1 Axes>"
            ]
          },
          "metadata": {
            "tags": []
          }
        },
        {
          "output_type": "stream",
          "text": [
            "time: 222 ms (started: 2021-03-28 18:31:03 +00:00)\n"
          ],
          "name": "stdout"
        }
      ]
    },
    {
      "cell_type": "markdown",
      "metadata": {
        "id": "aG4EK7dc1flP"
      },
      "source": [
        "# Visualizing major_discipline column"
      ]
    },
    {
      "cell_type": "code",
      "metadata": {
        "colab": {
          "base_uri": "https://localhost:8080/",
          "height": 946
        },
        "id": "gURtm6o-1qna",
        "outputId": "927ea1aa-127b-4ad8-f214-7709e6610396"
      },
      "source": [
        "labels = dataset['major_discipline'].value_counts().index\n",
        "values = dataset['major_discipline'].value_counts().tolist()\n",
        "plt.figure(figsize= (10,10))\n",
        "plt.title('major_discipline Distribution Pie Chart')\n",
        "\n",
        "plt.pie(x=values, labels=labels, autopct=\"%1.2f%%\", shadow=True, explode=[0.1, 0.1, 0.1, 0.1, 0.2, 0.1])"
      ],
      "execution_count": 11,
      "outputs": [
        {
          "output_type": "execute_result",
          "data": {
            "text/plain": [
              "([<matplotlib.patches.Wedge at 0x7f28877b06d0>,\n",
              "  <matplotlib.patches.Wedge at 0x7f288773a150>,\n",
              "  <matplotlib.patches.Wedge at 0x7f288773ad10>,\n",
              "  <matplotlib.patches.Wedge at 0x7f2887745990>,\n",
              "  <matplotlib.patches.Wedge at 0x7f2887750810>,\n",
              "  <matplotlib.patches.Wedge at 0x7f288775c410>],\n",
              " [Text(-1.130451485550041, 0.40259090751991083, 'STEM'),\n",
              "  Text(1.0216358238904044, -0.6294920518511531, 'Humanities'),\n",
              "  Text(1.1267386475002112, -0.412868042150752, 'Other'),\n",
              "  Text(1.1688624939878898, -0.27158878870161524, 'Business Degree'),\n",
              "  Text(1.2900854434126972, -0.16024839685520936, 'Arts'),\n",
              "  Text(1.1992040515496167, -0.043699459344306996, 'No Major')],\n",
              " [Text(-0.6594300332375239, 0.2348446960532813, '89.11%'),\n",
              "  Text(0.5959542306027358, -0.36720369691317256, '4.20%'),\n",
              "  Text(0.6572642110417898, -0.2408396912546053, '2.19%'),\n",
              "  Text(0.681836454826269, -0.15842679340927557, '1.72%'),\n",
              "  Text(0.7938987344078136, -0.0986143980647442, '1.61%'),\n",
              "  Text(0.6995356967372763, -0.02549135128417908, '1.16%')])"
            ]
          },
          "metadata": {
            "tags": []
          },
          "execution_count": 11
        },
        {
          "output_type": "display_data",
          "data": {
            "image/png": "[encoded data removed]",
            "text/plain": [
              "<Figure size 720x720 with 1 Axes>"
            ]
          },
          "metadata": {
            "tags": []
          }
        },
        {
          "output_type": "stream",
          "text": [
            "time: 187 ms (started: 2021-03-28 18:31:05 +00:00)\n"
          ],
          "name": "stdout"
        }
      ]
    },
    {
      "cell_type": "markdown",
      "metadata": {
        "id": "Gnf1S2pB3HEF"
      },
      "source": [
        "# Visualizing company_type column"
      ]
    },
    {
      "cell_type": "code",
      "metadata": {
        "colab": {
          "base_uri": "https://localhost:8080/",
          "height": 946
        },
        "id": "wgKiEqI23SJ2",
        "outputId": "7974f669-f678-46e6-e45a-832d962ae7a8"
      },
      "source": [
        "labels = dataset['company_type'].value_counts().index\n",
        "values = dataset['company_type'].value_counts().tolist()\n",
        "plt.figure(figsize= (10,10))\n",
        "plt.title('company_type Distribution Pie Chart')\n",
        "\n",
        "plt.pie(x=values, labels=labels, autopct=\"%1.2f%%\", shadow=True, explode=[0, 0.1,.1,.1, .15,.1])"
      ],
      "execution_count": 12,
      "outputs": [
        {
          "output_type": "execute_result",
          "data": {
            "text/plain": [
              "([<matplotlib.patches.Wedge at 0x7f28877276d0>,\n",
              "  <matplotlib.patches.Wedge at 0x7f28876b3150>,\n",
              "  <matplotlib.patches.Wedge at 0x7f28876b3d10>,\n",
              "  <matplotlib.patches.Wedge at 0x7f28876bd990>,\n",
              "  <matplotlib.patches.Wedge at 0x7f28876ca810>,\n",
              "  <matplotlib.patches.Wedge at 0x7f28876d3410>],\n",
              " [Text(-0.8004927507257931, 0.7544609705183254, 'Pvt Ltd'),\n",
              "  Text(0.4099350798414214, -1.1278090398269591, 'Funded Startup'),\n",
              "  Text(0.8891576853987594, -0.8058527225841712, 'Public Sector'),\n",
              "  Text(1.097204837141463, -0.4859439734716086, 'NGO'),\n",
              "  Text(1.2317552495112039, -0.21278863997307781, 'Early Stage Startup'),\n",
              "  Text(1.1996525110313987, -0.02887650906982727, 'Other')],\n",
              " [Text(-0.43663240948679616, 0.41152416573726835, '75.94%'),\n",
              "  Text(0.23912879657416247, -0.6578886065657261, '9.21%'),\n",
              "  Text(0.5186753164826096, -0.47008075484076645, '6.25%'),\n",
              "  Text(0.6400361549991869, -0.2834673178584383, '3.91%'),\n",
              "  Text(0.7390531497067222, -0.12767318398384667, '3.91%'),\n",
              "  Text(0.6997972981016493, -0.01684463029073257, '0.77%')])"
            ]
          },
          "metadata": {
            "tags": []
          },
          "execution_count": 12
        },
        {
          "output_type": "display_data",
          "data": {
            "image/png": "[encoded data removed]",
            "text/plain": [
              "<Figure size 720x720 with 1 Axes>"
            ]
          },
          "metadata": {
            "tags": []
          }
        },
        {
          "output_type": "stream",
          "text": [
            "time: 180 ms (started: 2021-03-28 18:31:07 +00:00)\n"
          ],
          "name": "stdout"
        }
      ]
    },
    {
      "cell_type": "markdown",
      "metadata": {
        "id": "WjybhRns4VT3"
      },
      "source": [
        "# Feature disturbution"
      ]
    },
    {
      "cell_type": "code",
      "metadata": {
        "colab": {
          "base_uri": "https://localhost:8080/",
          "height": 1000
        },
        "id": "KaVyFqrr8xWF",
        "outputId": "642d9c3d-ea6b-40ea-dd1d-2022ec2f9441"
      },
      "source": [
        "import seaborn as sn\n",
        "fig_dims = (20, 14)\n",
        "fig, ax =plt.subplots(3,2,figsize = fig_dims)\n",
        "\n",
        "sn.countplot(x = dataset['gender'],hue = dataset['target'], ax=ax[0,0], edgecolor=sn.color_palette(\"bright\"))\n",
        "sn.countplot(dataset['education_level'],hue = dataset['target'], ax=ax[0,1])\n",
        "sn.countplot(x = dataset['relevent_experience'],hue = dataset['target'], ax=ax[1,0])\n",
        "sn.countplot(dataset['enrolled_university'],hue = dataset['target'], ax=ax[1,1])\n",
        "sn.countplot(x = dataset['major_discipline'],hue = dataset['target'], ax=ax[2,0])\n",
        "sn.countplot(x = dataset['company_type'],hue = dataset['target'], ax=ax[2,1])\n",
        "\n",
        "\n",
        "fig.suptitle('Features distribution based on target ',fontsize=40)\n",
        "fig.show()"
      ],
      "execution_count": 13,
      "outputs": [
        {
          "output_type": "stream",
          "text": [
            "/usr/local/lib/python3.7/dist-packages/seaborn/_decorators.py:43: FutureWarning: Pass the following variable as a keyword arg: x. From version 0.12, the only valid positional argument will be `data`, and passing other arguments without an explicit keyword will result in an error or misinterpretation.\n",
            "  FutureWarning\n",
            "/usr/local/lib/python3.7/dist-packages/seaborn/_decorators.py:43: FutureWarning: Pass the following variable as a keyword arg: x. From version 0.12, the only valid positional argument will be `data`, and passing other arguments without an explicit keyword will result in an error or misinterpretation.\n",
            "  FutureWarning\n"
          ],
          "name": "stderr"
        },
        {
          "output_type": "display_data",
          "data": {
            "image/png": "[encoded data removed]",
            "text/plain": [
              "<Figure size 1440x1008 with 6 Axes>"
            ]
          },
          "metadata": {
            "tags": [],
            "needs_background": "light"
          }
        },
        {
          "output_type": "stream",
          "text": [
            "time: 1.39 s (started: 2021-03-28 18:31:09 +00:00)\n"
          ],
          "name": "stdout"
        }
      ]
    },
    {
      "cell_type": "markdown",
      "metadata": {
        "id": "gHUiS3njEH9a"
      },
      "source": [
        "# City_development vs target"
      ]
    },
    {
      "cell_type": "code",
      "metadata": {
        "colab": {
          "base_uri": "https://localhost:8080/",
          "height": 299
        },
        "id": "Vi_jjsDREHeM",
        "outputId": "be487f37-ba67-406d-946d-0048d80b6e1e"
      },
      "source": [
        "g = sn.kdeplot(dataset['city_development_index'][(dataset[\"target\"] == 0) & (dataset['city_development_index'].notnull())], color=\"Red\", shade = True)\n",
        "g = sn.kdeplot(dataset['city_development_index'][(dataset[\"target\"] == 1) & (dataset['city_development_index'].notnull())], ax =g, color=\"Blue\", shade= True)\n",
        "g.set_xlabel('city_development_index')\n",
        "g.set_ylabel(\"Frequency\")\n",
        "g = g.legend([\"Not looking for job change,\",\"looking for job change,\"])"
      ],
      "execution_count": 14,
      "outputs": [
        {
          "output_type": "display_data",
          "data": {
            "image/png": "[encoded data removed]",
            "text/plain": [
              "<Figure size 432x288 with 1 Axes>"
            ]
          },
          "metadata": {
            "tags": [],
            "needs_background": "light"
          }
        },
        {
          "output_type": "stream",
          "text": [
            "time: 286 ms (started: 2021-03-28 18:31:13 +00:00)\n"
          ],
          "name": "stdout"
        }
      ]
    },
    {
      "cell_type": "markdown",
      "metadata": {
        "id": "na_MzFKxFUOq"
      },
      "source": [
        "# Experience vs target"
      ]
    },
    {
      "cell_type": "markdown",
      "metadata": {
        "id": "Rv87RaWRg4cd"
      },
      "source": [
        "# replacing '>20' with 21 in the experience col"
      ]
    },
    {
      "cell_type": "code",
      "metadata": {
        "colab": {
          "base_uri": "https://localhost:8080/"
        },
        "id": "PB0lh3zZhA8K",
        "outputId": "fce5050e-46a0-438e-938c-eb39309ecf29"
      },
      "source": [
        "dataset[\"experience\"].replace({\"<1\": \"0\", \">20\": \"21\"}, inplace=True)\n",
        "dataset['experience'] = dataset['experience'].astype(int)"
      ],
      "execution_count": 15,
      "outputs": [
        {
          "output_type": "stream",
          "text": [
            "time: 7 ms (started: 2021-03-28 18:31:15 +00:00)\n"
          ],
          "name": "stdout"
        }
      ]
    },
    {
      "cell_type": "code",
      "metadata": {
        "colab": {
          "base_uri": "https://localhost:8080/",
          "height": 298
        },
        "id": "O0iIaLgqefe6",
        "outputId": "b3963a2a-7409-4cf5-e058-d1bd689c1b8b"
      },
      "source": [
        "g = sn.kdeplot(dataset['experience'][(dataset[\"target\"] == 0) & (dataset['experience'].notnull\n",
        "())], color=\"Red\", shade = True)\n",
        "g = sn.kdeplot(dataset['experience'][(dataset[\"target\"] == 1) & (dataset['experience'].notnull())], ax =g, color=\"Blue\", shade= True)\n",
        "g.set_xlabel('experience')\n",
        "g.set_ylabel(\"Frequency\")\n",
        "g = g.legend([\"Not looking for job change,\",\"looking for job change,\"])"
      ],
      "execution_count": 16,
      "outputs": [
        {
          "output_type": "display_data",
          "data": {
            "image/png": "[encoded data removed]",
            "text/plain": [
              "<Figure size 432x288 with 1 Axes>"
            ]
          },
          "metadata": {
            "tags": [],
            "needs_background": "light"
          }
        },
        {
          "output_type": "stream",
          "text": [
            "time: 295 ms (started: 2021-03-28 18:31:17 +00:00)\n"
          ],
          "name": "stdout"
        }
      ]
    },
    {
      "cell_type": "markdown",
      "metadata": {
        "id": "NB-O2PDEfYP6"
      },
      "source": [
        "# Last new Job vs target"
      ]
    },
    {
      "cell_type": "markdown",
      "metadata": {
        "id": "SBy4uF0WSAfL"
      },
      "source": [
        "# replace '>4' with 5  in the last_new jod col"
      ]
    },
    {
      "cell_type": "code",
      "metadata": {
        "colab": {
          "base_uri": "https://localhost:8080/"
        },
        "id": "PGQ4fI0GSAAc",
        "outputId": "3f985fc8-587b-492f-b8f7-b2011b838a4b"
      },
      "source": [
        "dataset[\"last_new_job\"].replace({\"never\": \"0\", \">4\": \"5\"}, inplace=True)\n",
        "dataset['last_new_job'] = dataset['last_new_job'].astype(int)"
      ],
      "execution_count": 17,
      "outputs": [
        {
          "output_type": "stream",
          "text": [
            "time: 4.96 ms (started: 2021-03-28 18:31:19 +00:00)\n"
          ],
          "name": "stdout"
        }
      ]
    },
    {
      "cell_type": "code",
      "metadata": {
        "colab": {
          "base_uri": "https://localhost:8080/",
          "height": 299
        },
        "id": "8NsJYQX8g8jR",
        "outputId": "f2d23d8a-368b-4c26-8abc-9fdf8b8c1a1e"
      },
      "source": [
        "g = sn.kdeplot(dataset['last_new_job'][(dataset[\"target\"] == 0) & (dataset['last_new_job'].notnull())], color=\"Red\", shade = True)\n",
        "g = sn.kdeplot(dataset['last_new_job'][(dataset[\"target\"] == 1) & (dataset['last_new_job'].notnull())], ax =g, color=\"Blue\", shade= True)\n",
        "g.set_xlabel('last_new_job')\n",
        "g.set_ylabel(\"Frequency\")\n",
        "g = g.legend([\"Not looking for job change,\",\"looking for job change,\"])"
      ],
      "execution_count": 18,
      "outputs": [
        {
          "output_type": "display_data",
          "data": {
            "image/png": "[encoded data removed]",
            "text/plain": [
              "<Figure size 432x288 with 1 Axes>"
            ]
          },
          "metadata": {
            "tags": [],
            "needs_background": "light"
          }
        },
        {
          "output_type": "stream",
          "text": [
            "time: 369 ms (started: 2021-03-28 18:31:21 +00:00)\n"
          ],
          "name": "stdout"
        }
      ]
    },
    {
      "cell_type": "markdown",
      "metadata": {
        "id": "gHbiFfLUhWOg"
      },
      "source": [
        "# Training hour vs target"
      ]
    },
    {
      "cell_type": "code",
      "metadata": {
        "colab": {
          "base_uri": "https://localhost:8080/",
          "height": 300
        },
        "id": "w3CN4Nrom93W",
        "outputId": "aea888b5-a8b3-450c-9599-fe5ee72168a9"
      },
      "source": [
        "g = sn.kdeplot(dataset['training_hours'][(dataset[\"target\"] == 0) & (dataset['training_hours'].notnull())], color=\"Red\", shade = True)\n",
        "g = sn.kdeplot(dataset['training_hours'][(dataset[\"target\"] == 1) & (dataset['training_hours'].notnull())], ax =g, color=\"Green\", shade= True)\n",
        "g.set_xlabel('training_hours')\n",
        "g.set_ylabel(\"Frequency\")\n",
        "g = g.legend([\"Not looking for job change,\",\"looking for job change,\"])"
      ],
      "execution_count": 19,
      "outputs": [
        {
          "output_type": "display_data",
          "data": {
            "image/png": "[encoded data removed]",
            "text/plain": [
              "<Figure size 432x288 with 1 Axes>"
            ]
          },
          "metadata": {
            "tags": [],
            "needs_background": "light"
          }
        },
        {
          "output_type": "stream",
          "text": [
            "time: 276 ms (started: 2021-03-28 18:31:23 +00:00)\n"
          ],
          "name": "stdout"
        }
      ]
    },
    {
      "cell_type": "markdown",
      "metadata": {
        "id": "qG96BEqRJrMP"
      },
      "source": [
        "# onehotencoding the city col"
      ]
    },
    {
      "cell_type": "code",
      "metadata": {
        "id": "-IY2uE2KJtlP",
        "colab": {
          "base_uri": "https://localhost:8080/"
        },
        "outputId": "704cc96c-1639-4603-9875-2e585515cb32"
      },
      "source": [
        "dataset = pd.get_dummies(dataset, columns=[\"city\"], prefix=[\"\"])\n",
        "dataset = dataset.drop(['_city_99'], axis=1)"
      ],
      "execution_count": 20,
      "outputs": [
        {
          "output_type": "stream",
          "text": [
            "time: 18.9 ms (started: 2021-03-28 18:31:25 +00:00)\n"
          ],
          "name": "stdout"
        }
      ]
    },
    {
      "cell_type": "markdown",
      "metadata": {
        "id": "vndviqAdKOo_"
      },
      "source": [
        "# oneHot encoding the gender col"
      ]
    },
    {
      "cell_type": "code",
      "metadata": {
        "id": "DRdT7BqNKSR1",
        "colab": {
          "base_uri": "https://localhost:8080/"
        },
        "outputId": "1f6d2859-6744-4353-a225-90a1140af9a6"
      },
      "source": [
        "dataset = pd.get_dummies(dataset, columns=[\"gender\"], prefix=[\"\"])\n",
        "dataset = dataset.drop(['_Other'], axis=1)"
      ],
      "execution_count": 21,
      "outputs": [
        {
          "output_type": "stream",
          "text": [
            "time: 16.5 ms (started: 2021-03-28 18:31:26 +00:00)\n"
          ],
          "name": "stdout"
        }
      ]
    },
    {
      "cell_type": "markdown",
      "metadata": {
        "id": "H0pB9XfqKY-T"
      },
      "source": [
        "# Label encoding the experience relevences col"
      ]
    },
    {
      "cell_type": "code",
      "metadata": {
        "id": "4x1x7wmEKe7o",
        "colab": {
          "base_uri": "https://localhost:8080/"
        },
        "outputId": "e7aae241-0fb1-4de5-fb59-07cf18236dcf"
      },
      "source": [
        "labelencoder = LabelEncoder()\n",
        "dataset['relevent_experience'] = labelencoder.fit_transform(dataset['relevent_experience'])"
      ],
      "execution_count": 22,
      "outputs": [
        {
          "output_type": "stream",
          "text": [
            "time: 4.82 ms (started: 2021-03-28 18:31:27 +00:00)\n"
          ],
          "name": "stdout"
        }
      ]
    },
    {
      "cell_type": "markdown",
      "metadata": {
        "id": "zGBgq5tFMlAM"
      },
      "source": [
        "# onehotencoding the enrolled university col"
      ]
    },
    {
      "cell_type": "code",
      "metadata": {
        "id": "ImuHbICcMmk7",
        "colab": {
          "base_uri": "https://localhost:8080/"
        },
        "outputId": "d96a2e9c-3104-4b0e-ad41-6f99dabb1a92"
      },
      "source": [
        "dataset = pd.get_dummies(dataset, columns=[\"enrolled_university\"], prefix=[\"\"])\n",
        "dataset = dataset.drop(['_no_enrollment'], axis=1)"
      ],
      "execution_count": 23,
      "outputs": [
        {
          "output_type": "stream",
          "text": [
            "time: 21.2 ms (started: 2021-03-28 18:31:29 +00:00)\n"
          ],
          "name": "stdout"
        }
      ]
    },
    {
      "cell_type": "markdown",
      "metadata": {
        "id": "qzfn8r3wMqfZ"
      },
      "source": [
        "# nehotencoding the education_level col"
      ]
    },
    {
      "cell_type": "code",
      "metadata": {
        "id": "bCSJ7U1bMtrm",
        "colab": {
          "base_uri": "https://localhost:8080/"
        },
        "outputId": "2e7fa1f3-09d0-4169-c72e-35cabbe9f806"
      },
      "source": [
        "dataset.rename(columns = {'education_level':'education'}, inplace = True)\n",
        "dataset = pd.get_dummies(dataset, columns=[\"education\"], prefix=[\"Education\"])\n",
        "dataset = dataset.drop(['Education_Phd'], axis=1)"
      ],
      "execution_count": 24,
      "outputs": [
        {
          "output_type": "stream",
          "text": [
            "time: 97.9 ms (started: 2021-03-28 18:31:30 +00:00)\n"
          ],
          "name": "stdout"
        }
      ]
    },
    {
      "cell_type": "markdown",
      "metadata": {
        "id": "IXJ7X2xcM1P3"
      },
      "source": [
        "# onehotencoding the major discipline col"
      ]
    },
    {
      "cell_type": "code",
      "metadata": {
        "id": "GUZF59BTMxpw",
        "colab": {
          "base_uri": "https://localhost:8080/"
        },
        "outputId": "87d5ae09-414d-4c03-905a-e9bb4ccb9454"
      },
      "source": [
        "dataset = pd.get_dummies(dataset, columns=[\"major_discipline\"], prefix=[\"MajorDegreeIn\"])\n",
        "dataset = dataset.drop(['MajorDegreeIn_Other'], axis=1)"
      ],
      "execution_count": 25,
      "outputs": [
        {
          "output_type": "stream",
          "text": [
            "time: 16.8 ms (started: 2021-03-28 18:31:32 +00:00)\n"
          ],
          "name": "stdout"
        }
      ]
    },
    {
      "cell_type": "markdown",
      "metadata": {
        "id": "oEYcN8C-hEqf"
      },
      "source": [
        "# onehotencoding the company size col"
      ]
    },
    {
      "cell_type": "code",
      "metadata": {
        "colab": {
          "base_uri": "https://localhost:8080/"
        },
        "id": "cndrYRd2hEWL",
        "outputId": "e3e2769d-b208-4e30-9da8-bb57671357b7"
      },
      "source": [
        "dataset = pd.get_dummies(dataset, columns=[\"company_size\"], prefix=[\"companySize\"])\n",
        "dataset = dataset.drop(['companySize_500-999'], axis=1)"
      ],
      "execution_count": 26,
      "outputs": [
        {
          "output_type": "stream",
          "text": [
            "time: 18 ms (started: 2021-03-28 18:31:32 +00:00)\n"
          ],
          "name": "stdout"
        }
      ]
    },
    {
      "cell_type": "markdown",
      "metadata": {
        "id": "i31fZJr_HRS_"
      },
      "source": [
        "# onehotencoding the company_type col"
      ]
    },
    {
      "cell_type": "code",
      "metadata": {
        "colab": {
          "base_uri": "https://localhost:8080/"
        },
        "id": "u2ToqxGFRk4b",
        "outputId": "8ab9aaae-3ca8-4093-f34f-ab71e829d202"
      },
      "source": [
        "dataset = pd.get_dummies(dataset, columns=[\"company_type\"], prefix=[\"companyType\"])\n",
        "dataset = dataset.drop(['companyType_Other'], axis=1)"
      ],
      "execution_count": 27,
      "outputs": [
        {
          "output_type": "stream",
          "text": [
            "time: 14.5 ms (started: 2021-03-28 18:31:34 +00:00)\n"
          ],
          "name": "stdout"
        }
      ]
    },
    {
      "cell_type": "markdown",
      "metadata": {
        "id": "Sg4G2MC0S2yg"
      },
      "source": [
        "# coverting the columns to numeric"
      ]
    },
    {
      "cell_type": "code",
      "metadata": {
        "colab": {
          "base_uri": "https://localhost:8080/",
          "height": 472
        },
        "id": "mayaCEJXS70F",
        "outputId": "90491bab-ce86-4e63-855c-0001cbb6a38f"
      },
      "source": [
        "dataset.apply(pd.to_numeric)"
      ],
      "execution_count": 28,
      "outputs": [
        {
          "output_type": "execute_result",
          "data": {
            "text/html": [
              "<div>\n",
              "<style scoped>\n",
              "    .dataframe tbody tr th:only-of-type {\n",
              "        vertical-align: middle;\n",
              "    }\n",
              "\n",
              "    .dataframe tbody tr th {\n",
              "        vertical-align: top;\n",
              "    }\n",
              "\n",
              "    .dataframe thead th {\n",
              "        text-align: right;\n",
              "    }\n",
              "</style>\n",
              "<table border=\"1\" class=\"dataframe\">\n",
              "  <thead>\n",
              "    <tr style=\"text-align: right;\">\n",
              "      <th></th>\n",
              "      <th>enrollee_id</th>\n",
              "      <th>city_development_index</th>\n",
              "      <th>relevent_experience</th>\n",
              "      <th>experience</th>\n",
              "      <th>last_new_job</th>\n",
              "      <th>training_hours</th>\n",
              "      <th>target</th>\n",
              "      <th>_city_1</th>\n",
              "      <th>_city_10</th>\n",
              "      <th>_city_100</th>\n",
              "      <th>_city_101</th>\n",
              "      <th>_city_102</th>\n",
              "      <th>_city_103</th>\n",
              "      <th>_city_104</th>\n",
              "      <th>_city_105</th>\n",
              "      <th>_city_106</th>\n",
              "      <th>_city_107</th>\n",
              "      <th>_city_109</th>\n",
              "      <th>_city_11</th>\n",
              "      <th>_city_114</th>\n",
              "      <th>_city_115</th>\n",
              "      <th>_city_116</th>\n",
              "      <th>_city_117</th>\n",
              "      <th>_city_118</th>\n",
              "      <th>_city_12</th>\n",
              "      <th>_city_120</th>\n",
              "      <th>_city_121</th>\n",
              "      <th>_city_123</th>\n",
              "      <th>_city_126</th>\n",
              "      <th>_city_127</th>\n",
              "      <th>_city_128</th>\n",
              "      <th>_city_13</th>\n",
              "      <th>_city_131</th>\n",
              "      <th>_city_133</th>\n",
              "      <th>_city_134</th>\n",
              "      <th>_city_136</th>\n",
              "      <th>_city_138</th>\n",
              "      <th>_city_14</th>\n",
              "      <th>_city_141</th>\n",
              "      <th>_city_142</th>\n",
              "      <th>...</th>\n",
              "      <th>_city_75</th>\n",
              "      <th>_city_76</th>\n",
              "      <th>_city_77</th>\n",
              "      <th>_city_78</th>\n",
              "      <th>_city_80</th>\n",
              "      <th>_city_81</th>\n",
              "      <th>_city_82</th>\n",
              "      <th>_city_83</th>\n",
              "      <th>_city_84</th>\n",
              "      <th>_city_89</th>\n",
              "      <th>_city_9</th>\n",
              "      <th>_city_90</th>\n",
              "      <th>_city_91</th>\n",
              "      <th>_city_93</th>\n",
              "      <th>_city_94</th>\n",
              "      <th>_city_97</th>\n",
              "      <th>_city_98</th>\n",
              "      <th>_Female</th>\n",
              "      <th>_Male</th>\n",
              "      <th>_Full time course</th>\n",
              "      <th>_Part time course</th>\n",
              "      <th>Education_Graduate</th>\n",
              "      <th>Education_Masters</th>\n",
              "      <th>MajorDegreeIn_Arts</th>\n",
              "      <th>MajorDegreeIn_Business Degree</th>\n",
              "      <th>MajorDegreeIn_Humanities</th>\n",
              "      <th>MajorDegreeIn_No Major</th>\n",
              "      <th>MajorDegreeIn_STEM</th>\n",
              "      <th>companySize_10/49</th>\n",
              "      <th>companySize_100-500</th>\n",
              "      <th>companySize_1000-4999</th>\n",
              "      <th>companySize_10000+</th>\n",
              "      <th>companySize_50-99</th>\n",
              "      <th>companySize_5000-9999</th>\n",
              "      <th>companySize_&lt;10</th>\n",
              "      <th>companyType_Early Stage Startup</th>\n",
              "      <th>companyType_Funded Startup</th>\n",
              "      <th>companyType_NGO</th>\n",
              "      <th>companyType_Public Sector</th>\n",
              "      <th>companyType_Pvt Ltd</th>\n",
              "    </tr>\n",
              "  </thead>\n",
              "  <tbody>\n",
              "    <tr>\n",
              "      <th>1</th>\n",
              "      <td>29725</td>\n",
              "      <td>0.776</td>\n",
              "      <td>1</td>\n",
              "      <td>15</td>\n",
              "      <td>5</td>\n",
              "      <td>47.0</td>\n",
              "      <td>0.0</td>\n",
              "      <td>0</td>\n",
              "      <td>0</td>\n",
              "      <td>0</td>\n",
              "      <td>0</td>\n",
              "      <td>0</td>\n",
              "      <td>0</td>\n",
              "      <td>0</td>\n",
              "      <td>0</td>\n",
              "      <td>0</td>\n",
              "      <td>0</td>\n",
              "      <td>0</td>\n",
              "      <td>0</td>\n",
              "      <td>0</td>\n",
              "      <td>0</td>\n",
              "      <td>0</td>\n",
              "      <td>0</td>\n",
              "      <td>0</td>\n",
              "      <td>0</td>\n",
              "      <td>0</td>\n",
              "      <td>0</td>\n",
              "      <td>0</td>\n",
              "      <td>0</td>\n",
              "      <td>0</td>\n",
              "      <td>0</td>\n",
              "      <td>0</td>\n",
              "      <td>0</td>\n",
              "      <td>0</td>\n",
              "      <td>0</td>\n",
              "      <td>0</td>\n",
              "      <td>0</td>\n",
              "      <td>0</td>\n",
              "      <td>0</td>\n",
              "      <td>0</td>\n",
              "      <td>...</td>\n",
              "      <td>0</td>\n",
              "      <td>0</td>\n",
              "      <td>0</td>\n",
              "      <td>0</td>\n",
              "      <td>0</td>\n",
              "      <td>0</td>\n",
              "      <td>0</td>\n",
              "      <td>0</td>\n",
              "      <td>0</td>\n",
              "      <td>0</td>\n",
              "      <td>0</td>\n",
              "      <td>0</td>\n",
              "      <td>0</td>\n",
              "      <td>0</td>\n",
              "      <td>0</td>\n",
              "      <td>0</td>\n",
              "      <td>0</td>\n",
              "      <td>0</td>\n",
              "      <td>1</td>\n",
              "      <td>0</td>\n",
              "      <td>0</td>\n",
              "      <td>1</td>\n",
              "      <td>0</td>\n",
              "      <td>0</td>\n",
              "      <td>0</td>\n",
              "      <td>0</td>\n",
              "      <td>0</td>\n",
              "      <td>1</td>\n",
              "      <td>0</td>\n",
              "      <td>0</td>\n",
              "      <td>0</td>\n",
              "      <td>0</td>\n",
              "      <td>1</td>\n",
              "      <td>0</td>\n",
              "      <td>0</td>\n",
              "      <td>0</td>\n",
              "      <td>0</td>\n",
              "      <td>0</td>\n",
              "      <td>0</td>\n",
              "      <td>1</td>\n",
              "    </tr>\n",
              "    <tr>\n",
              "      <th>4</th>\n",
              "      <td>666</td>\n",
              "      <td>0.767</td>\n",
              "      <td>0</td>\n",
              "      <td>21</td>\n",
              "      <td>4</td>\n",
              "      <td>8.0</td>\n",
              "      <td>0.0</td>\n",
              "      <td>0</td>\n",
              "      <td>0</td>\n",
              "      <td>0</td>\n",
              "      <td>0</td>\n",
              "      <td>0</td>\n",
              "      <td>0</td>\n",
              "      <td>0</td>\n",
              "      <td>0</td>\n",
              "      <td>0</td>\n",
              "      <td>0</td>\n",
              "      <td>0</td>\n",
              "      <td>0</td>\n",
              "      <td>0</td>\n",
              "      <td>0</td>\n",
              "      <td>0</td>\n",
              "      <td>0</td>\n",
              "      <td>0</td>\n",
              "      <td>0</td>\n",
              "      <td>0</td>\n",
              "      <td>0</td>\n",
              "      <td>0</td>\n",
              "      <td>0</td>\n",
              "      <td>0</td>\n",
              "      <td>0</td>\n",
              "      <td>0</td>\n",
              "      <td>0</td>\n",
              "      <td>0</td>\n",
              "      <td>0</td>\n",
              "      <td>0</td>\n",
              "      <td>0</td>\n",
              "      <td>0</td>\n",
              "      <td>0</td>\n",
              "      <td>0</td>\n",
              "      <td>...</td>\n",
              "      <td>0</td>\n",
              "      <td>0</td>\n",
              "      <td>0</td>\n",
              "      <td>0</td>\n",
              "      <td>0</td>\n",
              "      <td>0</td>\n",
              "      <td>0</td>\n",
              "      <td>0</td>\n",
              "      <td>0</td>\n",
              "      <td>0</td>\n",
              "      <td>0</td>\n",
              "      <td>0</td>\n",
              "      <td>0</td>\n",
              "      <td>0</td>\n",
              "      <td>0</td>\n",
              "      <td>0</td>\n",
              "      <td>0</td>\n",
              "      <td>0</td>\n",
              "      <td>1</td>\n",
              "      <td>0</td>\n",
              "      <td>0</td>\n",
              "      <td>0</td>\n",
              "      <td>1</td>\n",
              "      <td>0</td>\n",
              "      <td>0</td>\n",
              "      <td>0</td>\n",
              "      <td>0</td>\n",
              "      <td>1</td>\n",
              "      <td>0</td>\n",
              "      <td>0</td>\n",
              "      <td>0</td>\n",
              "      <td>0</td>\n",
              "      <td>1</td>\n",
              "      <td>0</td>\n",
              "      <td>0</td>\n",
              "      <td>0</td>\n",
              "      <td>1</td>\n",
              "      <td>0</td>\n",
              "      <td>0</td>\n",
              "      <td>0</td>\n",
              "    </tr>\n",
              "    <tr>\n",
              "      <th>7</th>\n",
              "      <td>402</td>\n",
              "      <td>0.762</td>\n",
              "      <td>0</td>\n",
              "      <td>13</td>\n",
              "      <td>5</td>\n",
              "      <td>18.0</td>\n",
              "      <td>1.0</td>\n",
              "      <td>0</td>\n",
              "      <td>0</td>\n",
              "      <td>0</td>\n",
              "      <td>0</td>\n",
              "      <td>0</td>\n",
              "      <td>0</td>\n",
              "      <td>0</td>\n",
              "      <td>0</td>\n",
              "      <td>0</td>\n",
              "      <td>0</td>\n",
              "      <td>0</td>\n",
              "      <td>0</td>\n",
              "      <td>0</td>\n",
              "      <td>0</td>\n",
              "      <td>0</td>\n",
              "      <td>0</td>\n",
              "      <td>0</td>\n",
              "      <td>0</td>\n",
              "      <td>0</td>\n",
              "      <td>0</td>\n",
              "      <td>0</td>\n",
              "      <td>0</td>\n",
              "      <td>0</td>\n",
              "      <td>0</td>\n",
              "      <td>0</td>\n",
              "      <td>0</td>\n",
              "      <td>0</td>\n",
              "      <td>0</td>\n",
              "      <td>0</td>\n",
              "      <td>0</td>\n",
              "      <td>0</td>\n",
              "      <td>0</td>\n",
              "      <td>0</td>\n",
              "      <td>...</td>\n",
              "      <td>0</td>\n",
              "      <td>0</td>\n",
              "      <td>0</td>\n",
              "      <td>0</td>\n",
              "      <td>0</td>\n",
              "      <td>0</td>\n",
              "      <td>0</td>\n",
              "      <td>0</td>\n",
              "      <td>0</td>\n",
              "      <td>0</td>\n",
              "      <td>0</td>\n",
              "      <td>0</td>\n",
              "      <td>0</td>\n",
              "      <td>0</td>\n",
              "      <td>0</td>\n",
              "      <td>0</td>\n",
              "      <td>0</td>\n",
              "      <td>0</td>\n",
              "      <td>1</td>\n",
              "      <td>0</td>\n",
              "      <td>0</td>\n",
              "      <td>1</td>\n",
              "      <td>0</td>\n",
              "      <td>0</td>\n",
              "      <td>0</td>\n",
              "      <td>0</td>\n",
              "      <td>0</td>\n",
              "      <td>1</td>\n",
              "      <td>0</td>\n",
              "      <td>0</td>\n",
              "      <td>0</td>\n",
              "      <td>0</td>\n",
              "      <td>0</td>\n",
              "      <td>0</td>\n",
              "      <td>1</td>\n",
              "      <td>0</td>\n",
              "      <td>0</td>\n",
              "      <td>0</td>\n",
              "      <td>0</td>\n",
              "      <td>1</td>\n",
              "    </tr>\n",
              "    <tr>\n",
              "      <th>8</th>\n",
              "      <td>27107</td>\n",
              "      <td>0.920</td>\n",
              "      <td>0</td>\n",
              "      <td>7</td>\n",
              "      <td>1</td>\n",
              "      <td>46.0</td>\n",
              "      <td>1.0</td>\n",
              "      <td>0</td>\n",
              "      <td>0</td>\n",
              "      <td>0</td>\n",
              "      <td>0</td>\n",
              "      <td>0</td>\n",
              "      <td>1</td>\n",
              "      <td>0</td>\n",
              "      <td>0</td>\n",
              "      <td>0</td>\n",
              "      <td>0</td>\n",
              "      <td>0</td>\n",
              "      <td>0</td>\n",
              "      <td>0</td>\n",
              "      <td>0</td>\n",
              "      <td>0</td>\n",
              "      <td>0</td>\n",
              "      <td>0</td>\n",
              "      <td>0</td>\n",
              "      <td>0</td>\n",
              "      <td>0</td>\n",
              "      <td>0</td>\n",
              "      <td>0</td>\n",
              "      <td>0</td>\n",
              "      <td>0</td>\n",
              "      <td>0</td>\n",
              "      <td>0</td>\n",
              "      <td>0</td>\n",
              "      <td>0</td>\n",
              "      <td>0</td>\n",
              "      <td>0</td>\n",
              "      <td>0</td>\n",
              "      <td>0</td>\n",
              "      <td>0</td>\n",
              "      <td>...</td>\n",
              "      <td>0</td>\n",
              "      <td>0</td>\n",
              "      <td>0</td>\n",
              "      <td>0</td>\n",
              "      <td>0</td>\n",
              "      <td>0</td>\n",
              "      <td>0</td>\n",
              "      <td>0</td>\n",
              "      <td>0</td>\n",
              "      <td>0</td>\n",
              "      <td>0</td>\n",
              "      <td>0</td>\n",
              "      <td>0</td>\n",
              "      <td>0</td>\n",
              "      <td>0</td>\n",
              "      <td>0</td>\n",
              "      <td>0</td>\n",
              "      <td>0</td>\n",
              "      <td>1</td>\n",
              "      <td>0</td>\n",
              "      <td>0</td>\n",
              "      <td>1</td>\n",
              "      <td>0</td>\n",
              "      <td>0</td>\n",
              "      <td>0</td>\n",
              "      <td>0</td>\n",
              "      <td>0</td>\n",
              "      <td>1</td>\n",
              "      <td>0</td>\n",
              "      <td>0</td>\n",
              "      <td>0</td>\n",
              "      <td>0</td>\n",
              "      <td>1</td>\n",
              "      <td>0</td>\n",
              "      <td>0</td>\n",
              "      <td>0</td>\n",
              "      <td>0</td>\n",
              "      <td>0</td>\n",
              "      <td>0</td>\n",
              "      <td>1</td>\n",
              "    </tr>\n",
              "    <tr>\n",
              "      <th>11</th>\n",
              "      <td>23853</td>\n",
              "      <td>0.920</td>\n",
              "      <td>0</td>\n",
              "      <td>5</td>\n",
              "      <td>1</td>\n",
              "      <td>108.0</td>\n",
              "      <td>0.0</td>\n",
              "      <td>0</td>\n",
              "      <td>0</td>\n",
              "      <td>0</td>\n",
              "      <td>0</td>\n",
              "      <td>0</td>\n",
              "      <td>1</td>\n",
              "      <td>0</td>\n",
              "      <td>0</td>\n",
              "      <td>0</td>\n",
              "      <td>0</td>\n",
              "      <td>0</td>\n",
              "      <td>0</td>\n",
              "      <td>0</td>\n",
              "      <td>0</td>\n",
              "      <td>0</td>\n",
              "      <td>0</td>\n",
              "      <td>0</td>\n",
              "      <td>0</td>\n",
              "      <td>0</td>\n",
              "      <td>0</td>\n",
              "      <td>0</td>\n",
              "      <td>0</td>\n",
              "      <td>0</td>\n",
              "      <td>0</td>\n",
              "      <td>0</td>\n",
              "      <td>0</td>\n",
              "      <td>0</td>\n",
              "      <td>0</td>\n",
              "      <td>0</td>\n",
              "      <td>0</td>\n",
              "      <td>0</td>\n",
              "      <td>0</td>\n",
              "      <td>0</td>\n",
              "      <td>...</td>\n",
              "      <td>0</td>\n",
              "      <td>0</td>\n",
              "      <td>0</td>\n",
              "      <td>0</td>\n",
              "      <td>0</td>\n",
              "      <td>0</td>\n",
              "      <td>0</td>\n",
              "      <td>0</td>\n",
              "      <td>0</td>\n",
              "      <td>0</td>\n",
              "      <td>0</td>\n",
              "      <td>0</td>\n",
              "      <td>0</td>\n",
              "      <td>0</td>\n",
              "      <td>0</td>\n",
              "      <td>0</td>\n",
              "      <td>0</td>\n",
              "      <td>0</td>\n",
              "      <td>1</td>\n",
              "      <td>0</td>\n",
              "      <td>0</td>\n",
              "      <td>1</td>\n",
              "      <td>0</td>\n",
              "      <td>0</td>\n",
              "      <td>0</td>\n",
              "      <td>0</td>\n",
              "      <td>0</td>\n",
              "      <td>1</td>\n",
              "      <td>0</td>\n",
              "      <td>0</td>\n",
              "      <td>0</td>\n",
              "      <td>0</td>\n",
              "      <td>0</td>\n",
              "      <td>1</td>\n",
              "      <td>0</td>\n",
              "      <td>0</td>\n",
              "      <td>0</td>\n",
              "      <td>0</td>\n",
              "      <td>0</td>\n",
              "      <td>1</td>\n",
              "    </tr>\n",
              "    <tr>\n",
              "      <th>...</th>\n",
              "      <td>...</td>\n",
              "      <td>...</td>\n",
              "      <td>...</td>\n",
              "      <td>...</td>\n",
              "      <td>...</td>\n",
              "      <td>...</td>\n",
              "      <td>...</td>\n",
              "      <td>...</td>\n",
              "      <td>...</td>\n",
              "      <td>...</td>\n",
              "      <td>...</td>\n",
              "      <td>...</td>\n",
              "      <td>...</td>\n",
              "      <td>...</td>\n",
              "      <td>...</td>\n",
              "      <td>...</td>\n",
              "      <td>...</td>\n",
              "      <td>...</td>\n",
              "      <td>...</td>\n",
              "      <td>...</td>\n",
              "      <td>...</td>\n",
              "      <td>...</td>\n",
              "      <td>...</td>\n",
              "      <td>...</td>\n",
              "      <td>...</td>\n",
              "      <td>...</td>\n",
              "      <td>...</td>\n",
              "      <td>...</td>\n",
              "      <td>...</td>\n",
              "      <td>...</td>\n",
              "      <td>...</td>\n",
              "      <td>...</td>\n",
              "      <td>...</td>\n",
              "      <td>...</td>\n",
              "      <td>...</td>\n",
              "      <td>...</td>\n",
              "      <td>...</td>\n",
              "      <td>...</td>\n",
              "      <td>...</td>\n",
              "      <td>...</td>\n",
              "      <td>...</td>\n",
              "      <td>...</td>\n",
              "      <td>...</td>\n",
              "      <td>...</td>\n",
              "      <td>...</td>\n",
              "      <td>...</td>\n",
              "      <td>...</td>\n",
              "      <td>...</td>\n",
              "      <td>...</td>\n",
              "      <td>...</td>\n",
              "      <td>...</td>\n",
              "      <td>...</td>\n",
              "      <td>...</td>\n",
              "      <td>...</td>\n",
              "      <td>...</td>\n",
              "      <td>...</td>\n",
              "      <td>...</td>\n",
              "      <td>...</td>\n",
              "      <td>...</td>\n",
              "      <td>...</td>\n",
              "      <td>...</td>\n",
              "      <td>...</td>\n",
              "      <td>...</td>\n",
              "      <td>...</td>\n",
              "      <td>...</td>\n",
              "      <td>...</td>\n",
              "      <td>...</td>\n",
              "      <td>...</td>\n",
              "      <td>...</td>\n",
              "      <td>...</td>\n",
              "      <td>...</td>\n",
              "      <td>...</td>\n",
              "      <td>...</td>\n",
              "      <td>...</td>\n",
              "      <td>...</td>\n",
              "      <td>...</td>\n",
              "      <td>...</td>\n",
              "      <td>...</td>\n",
              "      <td>...</td>\n",
              "      <td>...</td>\n",
              "      <td>...</td>\n",
              "    </tr>\n",
              "    <tr>\n",
              "      <th>10220</th>\n",
              "      <td>11772</td>\n",
              "      <td>0.804</td>\n",
              "      <td>0</td>\n",
              "      <td>11</td>\n",
              "      <td>1</td>\n",
              "      <td>15.0</td>\n",
              "      <td>1.0</td>\n",
              "      <td>0</td>\n",
              "      <td>0</td>\n",
              "      <td>0</td>\n",
              "      <td>0</td>\n",
              "      <td>1</td>\n",
              "      <td>0</td>\n",
              "      <td>0</td>\n",
              "      <td>0</td>\n",
              "      <td>0</td>\n",
              "      <td>0</td>\n",
              "      <td>0</td>\n",
              "      <td>0</td>\n",
              "      <td>0</td>\n",
              "      <td>0</td>\n",
              "      <td>0</td>\n",
              "      <td>0</td>\n",
              "      <td>0</td>\n",
              "      <td>0</td>\n",
              "      <td>0</td>\n",
              "      <td>0</td>\n",
              "      <td>0</td>\n",
              "      <td>0</td>\n",
              "      <td>0</td>\n",
              "      <td>0</td>\n",
              "      <td>0</td>\n",
              "      <td>0</td>\n",
              "      <td>0</td>\n",
              "      <td>0</td>\n",
              "      <td>0</td>\n",
              "      <td>0</td>\n",
              "      <td>0</td>\n",
              "      <td>0</td>\n",
              "      <td>0</td>\n",
              "      <td>...</td>\n",
              "      <td>0</td>\n",
              "      <td>0</td>\n",
              "      <td>0</td>\n",
              "      <td>0</td>\n",
              "      <td>0</td>\n",
              "      <td>0</td>\n",
              "      <td>0</td>\n",
              "      <td>0</td>\n",
              "      <td>0</td>\n",
              "      <td>0</td>\n",
              "      <td>0</td>\n",
              "      <td>0</td>\n",
              "      <td>0</td>\n",
              "      <td>0</td>\n",
              "      <td>0</td>\n",
              "      <td>0</td>\n",
              "      <td>0</td>\n",
              "      <td>0</td>\n",
              "      <td>1</td>\n",
              "      <td>0</td>\n",
              "      <td>0</td>\n",
              "      <td>0</td>\n",
              "      <td>1</td>\n",
              "      <td>0</td>\n",
              "      <td>0</td>\n",
              "      <td>0</td>\n",
              "      <td>0</td>\n",
              "      <td>1</td>\n",
              "      <td>0</td>\n",
              "      <td>0</td>\n",
              "      <td>1</td>\n",
              "      <td>0</td>\n",
              "      <td>0</td>\n",
              "      <td>0</td>\n",
              "      <td>0</td>\n",
              "      <td>0</td>\n",
              "      <td>0</td>\n",
              "      <td>0</td>\n",
              "      <td>0</td>\n",
              "      <td>1</td>\n",
              "    </tr>\n",
              "    <tr>\n",
              "      <th>10222</th>\n",
              "      <td>4580</td>\n",
              "      <td>0.624</td>\n",
              "      <td>0</td>\n",
              "      <td>9</td>\n",
              "      <td>1</td>\n",
              "      <td>79.0</td>\n",
              "      <td>1.0</td>\n",
              "      <td>0</td>\n",
              "      <td>0</td>\n",
              "      <td>0</td>\n",
              "      <td>0</td>\n",
              "      <td>0</td>\n",
              "      <td>0</td>\n",
              "      <td>0</td>\n",
              "      <td>0</td>\n",
              "      <td>0</td>\n",
              "      <td>0</td>\n",
              "      <td>0</td>\n",
              "      <td>0</td>\n",
              "      <td>0</td>\n",
              "      <td>0</td>\n",
              "      <td>0</td>\n",
              "      <td>0</td>\n",
              "      <td>0</td>\n",
              "      <td>0</td>\n",
              "      <td>0</td>\n",
              "      <td>0</td>\n",
              "      <td>0</td>\n",
              "      <td>0</td>\n",
              "      <td>0</td>\n",
              "      <td>0</td>\n",
              "      <td>0</td>\n",
              "      <td>0</td>\n",
              "      <td>0</td>\n",
              "      <td>0</td>\n",
              "      <td>0</td>\n",
              "      <td>0</td>\n",
              "      <td>0</td>\n",
              "      <td>0</td>\n",
              "      <td>0</td>\n",
              "      <td>...</td>\n",
              "      <td>0</td>\n",
              "      <td>0</td>\n",
              "      <td>0</td>\n",
              "      <td>0</td>\n",
              "      <td>0</td>\n",
              "      <td>0</td>\n",
              "      <td>0</td>\n",
              "      <td>0</td>\n",
              "      <td>0</td>\n",
              "      <td>0</td>\n",
              "      <td>0</td>\n",
              "      <td>0</td>\n",
              "      <td>0</td>\n",
              "      <td>0</td>\n",
              "      <td>0</td>\n",
              "      <td>0</td>\n",
              "      <td>0</td>\n",
              "      <td>0</td>\n",
              "      <td>1</td>\n",
              "      <td>0</td>\n",
              "      <td>0</td>\n",
              "      <td>0</td>\n",
              "      <td>1</td>\n",
              "      <td>0</td>\n",
              "      <td>0</td>\n",
              "      <td>0</td>\n",
              "      <td>0</td>\n",
              "      <td>1</td>\n",
              "      <td>1</td>\n",
              "      <td>0</td>\n",
              "      <td>0</td>\n",
              "      <td>0</td>\n",
              "      <td>0</td>\n",
              "      <td>0</td>\n",
              "      <td>0</td>\n",
              "      <td>1</td>\n",
              "      <td>0</td>\n",
              "      <td>0</td>\n",
              "      <td>0</td>\n",
              "      <td>0</td>\n",
              "    </tr>\n",
              "    <tr>\n",
              "      <th>10225</th>\n",
              "      <td>15495</td>\n",
              "      <td>0.926</td>\n",
              "      <td>0</td>\n",
              "      <td>10</td>\n",
              "      <td>1</td>\n",
              "      <td>62.0</td>\n",
              "      <td>0.0</td>\n",
              "      <td>0</td>\n",
              "      <td>0</td>\n",
              "      <td>0</td>\n",
              "      <td>0</td>\n",
              "      <td>0</td>\n",
              "      <td>0</td>\n",
              "      <td>0</td>\n",
              "      <td>0</td>\n",
              "      <td>0</td>\n",
              "      <td>0</td>\n",
              "      <td>0</td>\n",
              "      <td>0</td>\n",
              "      <td>1</td>\n",
              "      <td>0</td>\n",
              "      <td>0</td>\n",
              "      <td>0</td>\n",
              "      <td>0</td>\n",
              "      <td>0</td>\n",
              "      <td>0</td>\n",
              "      <td>0</td>\n",
              "      <td>0</td>\n",
              "      <td>0</td>\n",
              "      <td>0</td>\n",
              "      <td>0</td>\n",
              "      <td>0</td>\n",
              "      <td>0</td>\n",
              "      <td>0</td>\n",
              "      <td>0</td>\n",
              "      <td>0</td>\n",
              "      <td>0</td>\n",
              "      <td>0</td>\n",
              "      <td>0</td>\n",
              "      <td>0</td>\n",
              "      <td>...</td>\n",
              "      <td>0</td>\n",
              "      <td>0</td>\n",
              "      <td>0</td>\n",
              "      <td>0</td>\n",
              "      <td>0</td>\n",
              "      <td>0</td>\n",
              "      <td>0</td>\n",
              "      <td>0</td>\n",
              "      <td>0</td>\n",
              "      <td>0</td>\n",
              "      <td>0</td>\n",
              "      <td>0</td>\n",
              "      <td>0</td>\n",
              "      <td>0</td>\n",
              "      <td>0</td>\n",
              "      <td>0</td>\n",
              "      <td>0</td>\n",
              "      <td>0</td>\n",
              "      <td>1</td>\n",
              "      <td>0</td>\n",
              "      <td>0</td>\n",
              "      <td>0</td>\n",
              "      <td>1</td>\n",
              "      <td>0</td>\n",
              "      <td>0</td>\n",
              "      <td>0</td>\n",
              "      <td>0</td>\n",
              "      <td>1</td>\n",
              "      <td>0</td>\n",
              "      <td>0</td>\n",
              "      <td>1</td>\n",
              "      <td>0</td>\n",
              "      <td>0</td>\n",
              "      <td>0</td>\n",
              "      <td>0</td>\n",
              "      <td>0</td>\n",
              "      <td>0</td>\n",
              "      <td>0</td>\n",
              "      <td>0</td>\n",
              "      <td>1</td>\n",
              "    </tr>\n",
              "    <tr>\n",
              "      <th>10229</th>\n",
              "      <td>16616</td>\n",
              "      <td>0.926</td>\n",
              "      <td>0</td>\n",
              "      <td>11</td>\n",
              "      <td>1</td>\n",
              "      <td>82.0</td>\n",
              "      <td>0.0</td>\n",
              "      <td>0</td>\n",
              "      <td>0</td>\n",
              "      <td>0</td>\n",
              "      <td>0</td>\n",
              "      <td>0</td>\n",
              "      <td>0</td>\n",
              "      <td>0</td>\n",
              "      <td>0</td>\n",
              "      <td>0</td>\n",
              "      <td>0</td>\n",
              "      <td>0</td>\n",
              "      <td>0</td>\n",
              "      <td>1</td>\n",
              "      <td>0</td>\n",
              "      <td>0</td>\n",
              "      <td>0</td>\n",
              "      <td>0</td>\n",
              "      <td>0</td>\n",
              "      <td>0</td>\n",
              "      <td>0</td>\n",
              "      <td>0</td>\n",
              "      <td>0</td>\n",
              "      <td>0</td>\n",
              "      <td>0</td>\n",
              "      <td>0</td>\n",
              "      <td>0</td>\n",
              "      <td>0</td>\n",
              "      <td>0</td>\n",
              "      <td>0</td>\n",
              "      <td>0</td>\n",
              "      <td>0</td>\n",
              "      <td>0</td>\n",
              "      <td>0</td>\n",
              "      <td>...</td>\n",
              "      <td>0</td>\n",
              "      <td>0</td>\n",
              "      <td>0</td>\n",
              "      <td>0</td>\n",
              "      <td>0</td>\n",
              "      <td>0</td>\n",
              "      <td>0</td>\n",
              "      <td>0</td>\n",
              "      <td>0</td>\n",
              "      <td>0</td>\n",
              "      <td>0</td>\n",
              "      <td>0</td>\n",
              "      <td>0</td>\n",
              "      <td>0</td>\n",
              "      <td>0</td>\n",
              "      <td>0</td>\n",
              "      <td>0</td>\n",
              "      <td>0</td>\n",
              "      <td>1</td>\n",
              "      <td>0</td>\n",
              "      <td>0</td>\n",
              "      <td>0</td>\n",
              "      <td>1</td>\n",
              "      <td>0</td>\n",
              "      <td>0</td>\n",
              "      <td>0</td>\n",
              "      <td>0</td>\n",
              "      <td>1</td>\n",
              "      <td>0</td>\n",
              "      <td>1</td>\n",
              "      <td>0</td>\n",
              "      <td>0</td>\n",
              "      <td>0</td>\n",
              "      <td>0</td>\n",
              "      <td>0</td>\n",
              "      <td>0</td>\n",
              "      <td>1</td>\n",
              "      <td>0</td>\n",
              "      <td>0</td>\n",
              "      <td>0</td>\n",
              "    </tr>\n",
              "    <tr>\n",
              "      <th>10232</th>\n",
              "      <td>16221</td>\n",
              "      <td>0.804</td>\n",
              "      <td>0</td>\n",
              "      <td>21</td>\n",
              "      <td>5</td>\n",
              "      <td>168.0</td>\n",
              "      <td>0.0</td>\n",
              "      <td>0</td>\n",
              "      <td>0</td>\n",
              "      <td>0</td>\n",
              "      <td>0</td>\n",
              "      <td>1</td>\n",
              "      <td>0</td>\n",
              "      <td>0</td>\n",
              "      <td>0</td>\n",
              "      <td>0</td>\n",
              "      <td>0</td>\n",
              "      <td>0</td>\n",
              "      <td>0</td>\n",
              "      <td>0</td>\n",
              "      <td>0</td>\n",
              "      <td>0</td>\n",
              "      <td>0</td>\n",
              "      <td>0</td>\n",
              "      <td>0</td>\n",
              "      <td>0</td>\n",
              "      <td>0</td>\n",
              "      <td>0</td>\n",
              "      <td>0</td>\n",
              "      <td>0</td>\n",
              "      <td>0</td>\n",
              "      <td>0</td>\n",
              "      <td>0</td>\n",
              "      <td>0</td>\n",
              "      <td>0</td>\n",
              "      <td>0</td>\n",
              "      <td>0</td>\n",
              "      <td>0</td>\n",
              "      <td>0</td>\n",
              "      <td>0</td>\n",
              "      <td>...</td>\n",
              "      <td>0</td>\n",
              "      <td>0</td>\n",
              "      <td>0</td>\n",
              "      <td>0</td>\n",
              "      <td>0</td>\n",
              "      <td>0</td>\n",
              "      <td>0</td>\n",
              "      <td>0</td>\n",
              "      <td>0</td>\n",
              "      <td>0</td>\n",
              "      <td>0</td>\n",
              "      <td>0</td>\n",
              "      <td>0</td>\n",
              "      <td>0</td>\n",
              "      <td>0</td>\n",
              "      <td>0</td>\n",
              "      <td>0</td>\n",
              "      <td>0</td>\n",
              "      <td>1</td>\n",
              "      <td>0</td>\n",
              "      <td>0</td>\n",
              "      <td>0</td>\n",
              "      <td>1</td>\n",
              "      <td>0</td>\n",
              "      <td>0</td>\n",
              "      <td>0</td>\n",
              "      <td>0</td>\n",
              "      <td>1</td>\n",
              "      <td>0</td>\n",
              "      <td>0</td>\n",
              "      <td>0</td>\n",
              "      <td>0</td>\n",
              "      <td>0</td>\n",
              "      <td>0</td>\n",
              "      <td>0</td>\n",
              "      <td>0</td>\n",
              "      <td>0</td>\n",
              "      <td>0</td>\n",
              "      <td>0</td>\n",
              "      <td>1</td>\n",
              "    </tr>\n",
              "  </tbody>\n",
              "</table>\n",
              "<p>4830 rows × 141 columns</p>\n",
              "</div>"
            ],
            "text/plain": [
              "       enrollee_id  ...  companyType_Pvt Ltd\n",
              "1            29725  ...                    1\n",
              "4              666  ...                    0\n",
              "7              402  ...                    1\n",
              "8            27107  ...                    1\n",
              "11           23853  ...                    1\n",
              "...            ...  ...                  ...\n",
              "10220        11772  ...                    1\n",
              "10222         4580  ...                    0\n",
              "10225        15495  ...                    1\n",
              "10229        16616  ...                    0\n",
              "10232        16221  ...                    1\n",
              "\n",
              "[4830 rows x 141 columns]"
            ]
          },
          "metadata": {
            "tags": []
          },
          "execution_count": 28
        },
        {
          "output_type": "stream",
          "text": [
            "time: 161 ms (started: 2021-03-28 18:31:35 +00:00)\n"
          ],
          "name": "stdout"
        }
      ]
    },
    {
      "cell_type": "markdown",
      "metadata": {
        "id": "fUaV98VMTFSJ"
      },
      "source": [
        "# moving the target column to the last"
      ]
    },
    {
      "cell_type": "code",
      "metadata": {
        "colab": {
          "base_uri": "https://localhost:8080/"
        },
        "id": "7lNkYd4sTHmz",
        "outputId": "5a65c968-5706-4ad2-8593-97a4f9ddab2e"
      },
      "source": [
        "cols = list(dataset.columns.values)\n",
        "cols.pop(cols.index('target'))\n",
        "dataset = dataset[cols+['target']]"
      ],
      "execution_count": 29,
      "outputs": [
        {
          "output_type": "stream",
          "text": [
            "time: 8.17 ms (started: 2021-03-28 18:31:37 +00:00)\n"
          ],
          "name": "stdout"
        }
      ]
    },
    {
      "cell_type": "markdown",
      "metadata": {
        "id": "EBXT6XWlTLCn"
      },
      "source": [
        "# seperating the dependent variable from the indenpendent variables"
      ]
    },
    {
      "cell_type": "code",
      "metadata": {
        "colab": {
          "base_uri": "https://localhost:8080/"
        },
        "id": "se52QunOTP7G",
        "outputId": "c4dd69d0-9a2a-4bc3-8946-73ed558e9faa"
      },
      "source": [
        "X = dataset.iloc[:, 1:-1].values\n",
        "Y = dataset.iloc[:, -1].values"
      ],
      "execution_count": 30,
      "outputs": [
        {
          "output_type": "stream",
          "text": [
            "time: 13.2 ms (started: 2021-03-28 18:31:38 +00:00)\n"
          ],
          "name": "stdout"
        }
      ]
    },
    {
      "cell_type": "code",
      "metadata": {
        "colab": {
          "base_uri": "https://localhost:8080/"
        },
        "id": "_sVRKmM0TbE9",
        "outputId": "ea1d572b-623c-4206-b544-fb361d9dfb2c"
      },
      "source": [
        "X"
      ],
      "execution_count": 31,
      "outputs": [
        {
          "output_type": "execute_result",
          "data": {
            "text/plain": [
              "array([[ 0.776,  1.   , 15.   , ...,  0.   ,  0.   ,  1.   ],\n",
              "       [ 0.767,  0.   , 21.   , ...,  0.   ,  0.   ,  0.   ],\n",
              "       [ 0.762,  0.   , 13.   , ...,  0.   ,  0.   ,  1.   ],\n",
              "       ...,\n",
              "       [ 0.926,  0.   , 10.   , ...,  0.   ,  0.   ,  1.   ],\n",
              "       [ 0.926,  0.   , 11.   , ...,  0.   ,  0.   ,  0.   ],\n",
              "       [ 0.804,  0.   , 21.   , ...,  0.   ,  0.   ,  1.   ]])"
            ]
          },
          "metadata": {
            "tags": []
          },
          "execution_count": 31
        },
        {
          "output_type": "stream",
          "text": [
            "time: 5.54 ms (started: 2021-03-28 18:31:41 +00:00)\n"
          ],
          "name": "stdout"
        }
      ]
    },
    {
      "cell_type": "code",
      "metadata": {
        "colab": {
          "base_uri": "https://localhost:8080/"
        },
        "id": "A9uCZjnGTfCn",
        "outputId": "de8265e7-e459-40ad-f910-ffdf58760ca9"
      },
      "source": [
        "Y"
      ],
      "execution_count": 32,
      "outputs": [
        {
          "output_type": "execute_result",
          "data": {
            "text/plain": [
              "array([0., 0., 1., ..., 0., 0., 0.])"
            ]
          },
          "metadata": {
            "tags": []
          },
          "execution_count": 32
        },
        {
          "output_type": "stream",
          "text": [
            "time: 7.23 ms (started: 2021-03-28 18:31:42 +00:00)\n"
          ],
          "name": "stdout"
        }
      ]
    },
    {
      "cell_type": "markdown",
      "metadata": {
        "id": "KO2Y5LDLTX_x"
      },
      "source": [
        "# Splitting the dataset into Training set and Test set"
      ]
    },
    {
      "cell_type": "code",
      "metadata": {
        "colab": {
          "base_uri": "https://localhost:8080/"
        },
        "id": "cpATgNQpTnBg",
        "outputId": "95d1317d-df2f-44e0-cb49-4d7b6724d549"
      },
      "source": [
        "from  sklearn.model_selection import train_test_split\n",
        "X_train, X_test, Y_train, Y_test = train_test_split(X, Y, test_size = 0.2, random_state = 0)"
      ],
      "execution_count": 33,
      "outputs": [
        {
          "output_type": "stream",
          "text": [
            "time: 15.1 ms (started: 2021-03-28 18:31:44 +00:00)\n"
          ],
          "name": "stdout"
        }
      ]
    },
    {
      "cell_type": "markdown",
      "metadata": {
        "id": "bFJGA82GTvTS"
      },
      "source": [
        "# feature Scaling"
      ]
    },
    {
      "cell_type": "code",
      "metadata": {
        "colab": {
          "base_uri": "https://localhost:8080/"
        },
        "id": "fmkmWhwjT6nP",
        "outputId": "fa105322-c6d2-4da7-c2d2-4bfa06c9cbf2"
      },
      "source": [
        "from sklearn.preprocessing import StandardScaler\n",
        "sc = StandardScaler()\n",
        "X_train = sc.fit_transform(X_train)\n",
        "X_test = sc.transform(X_test)\n",
        "print(X_train)\n",
        "print(X_test)"
      ],
      "execution_count": 34,
      "outputs": [
        {
          "output_type": "stream",
          "text": [
            "[[-1.95863821  2.61490501 -1.0078926  ... -0.19886685 -0.26075538\n",
            "   0.55981448]\n",
            " [-2.60759125 -0.38242307 -1.16036683 ...  5.02849026 -0.26075538\n",
            "  -1.78630607]\n",
            " [ 0.63717395 -0.38242307 -0.70294412 ... -0.19886685 -0.26075538\n",
            "   0.55981448]\n",
            " ...\n",
            " [-1.59031351 -0.38242307 -1.16036683 ... -0.19886685 -0.26075538\n",
            "   0.55981448]\n",
            " [-1.30968517 -0.38242307 -0.09304717 ... -0.19886685 -0.26075538\n",
            "   0.55981448]\n",
            " [ 0.63717395 -0.38242307  0.66932402 ... -0.19886685 -0.26075538\n",
            "  -1.78630607]]\n",
            "[[ 0.43547233 -0.38242307  1.43169521 ... -0.19886685 -0.26075538\n",
            "   0.55981448]\n",
            " [ 0.32146706 -0.38242307 -0.39799564 ... -0.19886685 -0.26075538\n",
            "   0.55981448]\n",
            " [ 0.80379703 -0.38242307 -0.24552141 ... -0.19886685 -0.26075538\n",
            "   0.55981448]\n",
            " ...\n",
            " [ 0.63717395 -0.38242307 -0.09304717 ...  5.02849026 -0.26075538\n",
            "  -1.78630607]\n",
            " [-2.60759125  2.61490501 -0.24552141 ... -0.19886685 -0.26075538\n",
            "   0.55981448]\n",
            " [-0.70458031 -0.38242307 -1.61778955 ... -0.19886685 -0.26075538\n",
            "   0.55981448]]\n",
            "time: 24.8 ms (started: 2021-03-28 18:31:46 +00:00)\n"
          ],
          "name": "stdout"
        }
      ]
    },
    {
      "cell_type": "markdown",
      "metadata": {
        "id": "TRpkDFeipLCC"
      },
      "source": [
        "# KNN"
      ]
    },
    {
      "cell_type": "markdown",
      "metadata": {
        "id": "8re3hBRipSjt"
      },
      "source": [
        "# Training the logistic Regression model on the training set"
      ]
    },
    {
      "cell_type": "code",
      "metadata": {
        "colab": {
          "base_uri": "https://localhost:8080/"
        },
        "id": "oZorOa6VpNIF",
        "outputId": "e7a4f3f8-4e55-4556-a98b-85e92a00831f"
      },
      "source": [
        "from sklearn.neighbors import KNeighborsClassifier\n",
        "classifier = KNeighborsClassifier(n_neighbors=5, metric=\"minkowski\", p = 2)\n",
        "classifier.fit(X_train,Y_train)"
      ],
      "execution_count": 35,
      "outputs": [
        {
          "output_type": "execute_result",
          "data": {
            "text/plain": [
              "KNeighborsClassifier(algorithm='auto', leaf_size=30, metric='minkowski',\n",
              "                     metric_params=None, n_jobs=None, n_neighbors=5, p=2,\n",
              "                     weights='uniform')"
            ]
          },
          "metadata": {
            "tags": []
          },
          "execution_count": 35
        },
        {
          "output_type": "stream",
          "text": [
            "time: 86.7 ms (started: 2021-03-28 18:31:49 +00:00)\n"
          ],
          "name": "stdout"
        }
      ]
    },
    {
      "cell_type": "markdown",
      "metadata": {
        "id": "vhDLG_yXpXWO"
      },
      "source": [
        "# predicting a new result"
      ]
    },
    {
      "cell_type": "code",
      "metadata": {
        "colab": {
          "base_uri": "https://localhost:8080/"
        },
        "id": "bgDwmIrppd0L",
        "outputId": "8e24966a-8ec6-4cfc-93f0-b7067dc5bead"
      },
      "source": [
        "y_pred = classifier.predict(X_test)\n",
        "print(np.concatenate((y_pred.reshape(len(y_pred),1),Y_test.reshape(len(Y_test),1)),1))"
      ],
      "execution_count": 36,
      "outputs": [
        {
          "output_type": "stream",
          "text": [
            "[[0. 0.]\n",
            " [0. 0.]\n",
            " [0. 0.]\n",
            " ...\n",
            " [0. 0.]\n",
            " [1. 0.]\n",
            " [0. 0.]]\n",
            "time: 1.01 s (started: 2021-03-28 18:31:51 +00:00)\n"
          ],
          "name": "stdout"
        }
      ]
    },
    {
      "cell_type": "markdown",
      "metadata": {
        "id": "S9yWC0pXp6Cv"
      },
      "source": [
        "# Making confusion"
      ]
    },
    {
      "cell_type": "code",
      "metadata": {
        "colab": {
          "base_uri": "https://localhost:8080/"
        },
        "id": "saVTI8f1q4tP",
        "outputId": "82356130-59d9-4859-f39b-07ff203ce377"
      },
      "source": [
        "from sklearn.metrics import confusion_matrix, accuracy_score\n",
        "cm = confusion_matrix(Y_test,y_pred)\n",
        "print(cm)\n",
        "accuracy = accuracy_score(Y_test,y_pred)\n",
        "print(accuracy)"
      ],
      "execution_count": 37,
      "outputs": [
        {
          "output_type": "stream",
          "text": [
            "[[760  55]\n",
            " [ 96  55]]\n",
            "0.8436853002070394\n",
            "time: 11.5 ms (started: 2021-03-28 18:31:55 +00:00)\n"
          ],
          "name": "stdout"
        }
      ]
    },
    {
      "cell_type": "markdown",
      "metadata": {
        "id": "Ajkwdid1Z7kZ"
      },
      "source": [
        "# SVM"
      ]
    },
    {
      "cell_type": "markdown",
      "metadata": {
        "id": "xg-cls7HWS7h"
      },
      "source": [
        "#Training the Regression model on the training set"
      ]
    },
    {
      "cell_type": "code",
      "metadata": {
        "colab": {
          "base_uri": "https://localhost:8080/"
        },
        "id": "KZfXgwArWAei",
        "outputId": "e30eec13-ba14-4411-aa7a-d6d6cfbaedae"
      },
      "source": [
        "from sklearn.svm import SVC\n",
        "classifier = SVC()\n",
        "classifier.fit(X_train,Y_train)"
      ],
      "execution_count": 38,
      "outputs": [
        {
          "output_type": "execute_result",
          "data": {
            "text/plain": [
              "SVC(C=1.0, break_ties=False, cache_size=200, class_weight=None, coef0=0.0,\n",
              "    decision_function_shape='ovr', degree=3, gamma='scale', kernel='rbf',\n",
              "    max_iter=-1, probability=False, random_state=None, shrinking=True,\n",
              "    tol=0.001, verbose=False)"
            ]
          },
          "metadata": {
            "tags": []
          },
          "execution_count": 38
        },
        {
          "output_type": "stream",
          "text": [
            "time: 2.1 s (started: 2021-03-28 18:31:57 +00:00)\n"
          ],
          "name": "stdout"
        }
      ]
    },
    {
      "cell_type": "markdown",
      "metadata": {
        "id": "XT28c4ZGYlTV"
      },
      "source": [
        "# predicting the test set results"
      ]
    },
    {
      "cell_type": "code",
      "metadata": {
        "colab": {
          "base_uri": "https://localhost:8080/"
        },
        "id": "x9l1ylc8YrUJ",
        "outputId": "ab665d6a-9dd5-41c7-97a2-b60aca0cb72c"
      },
      "source": [
        "y_pred = classifier.predict(X_test)"
      ],
      "execution_count": 39,
      "outputs": [
        {
          "output_type": "stream",
          "text": [
            "time: 399 ms (started: 2021-03-28 18:31:59 +00:00)\n"
          ],
          "name": "stdout"
        }
      ]
    },
    {
      "cell_type": "markdown",
      "metadata": {
        "id": "gNEy1BD-Ywab"
      },
      "source": [
        "# Making the confusion matrix"
      ]
    },
    {
      "cell_type": "code",
      "metadata": {
        "colab": {
          "base_uri": "https://localhost:8080/"
        },
        "id": "oy3NUO8tY33b",
        "outputId": "1dedf0b7-44bf-429d-e1c1-89892bb5b6a0"
      },
      "source": [
        "from sklearn.metrics import confusion_matrix, accuracy_score\n",
        "cm = confusion_matrix(Y_test,y_pred)\n",
        "print(\"\\t\\n########SVM Accuracy########\\n\")\n",
        "print(cm)\n",
        "accuracy = accuracy_score(Y_test,y_pred)\n",
        "print(accuracy)"
      ],
      "execution_count": 40,
      "outputs": [
        {
          "output_type": "stream",
          "text": [
            "\t\n",
            "########SVM Accuracy########\n",
            "\n",
            "[[752  63]\n",
            " [ 74  77]]\n",
            "0.8581780538302277\n",
            "time: 14.7 ms (started: 2021-03-28 18:32:00 +00:00)\n"
          ],
          "name": "stdout"
        }
      ]
    },
    {
      "cell_type": "markdown",
      "metadata": {
        "id": "V0Oxug9eZKQJ"
      },
      "source": [
        "# SVM Kernel "
      ]
    },
    {
      "cell_type": "markdown",
      "metadata": {
        "id": "Vxw5oju_amB7"
      },
      "source": [
        "# Training the Classification model on the training set"
      ]
    },
    {
      "cell_type": "code",
      "metadata": {
        "colab": {
          "base_uri": "https://localhost:8080/"
        },
        "id": "Z9TlZ5t7aYC2",
        "outputId": "c351952d-6ec8-4960-b59e-eab6a9f7362b"
      },
      "source": [
        "from sklearn.svm import SVC\n",
        "classifier = SVC(kernel='rbf', )\n",
        "classifier.fit(X_train,Y_train)"
      ],
      "execution_count": 41,
      "outputs": [
        {
          "output_type": "execute_result",
          "data": {
            "text/plain": [
              "SVC(C=1.0, break_ties=False, cache_size=200, class_weight=None, coef0=0.0,\n",
              "    decision_function_shape='ovr', degree=3, gamma='scale', kernel='rbf',\n",
              "    max_iter=-1, probability=False, random_state=None, shrinking=True,\n",
              "    tol=0.001, verbose=False)"
            ]
          },
          "metadata": {
            "tags": []
          },
          "execution_count": 41
        },
        {
          "output_type": "stream",
          "text": [
            "time: 2.08 s (started: 2021-03-28 18:32:02 +00:00)\n"
          ],
          "name": "stdout"
        }
      ]
    },
    {
      "cell_type": "markdown",
      "metadata": {
        "id": "_UbNSA2katG2"
      },
      "source": [
        "# predicting the test set results"
      ]
    },
    {
      "cell_type": "code",
      "metadata": {
        "colab": {
          "base_uri": "https://localhost:8080/"
        },
        "id": "APDBb3-1a0Of",
        "outputId": "b1257e76-d68a-45dd-f04c-71af37aaf9a0"
      },
      "source": [
        "y_pred = classifier.predict(X_test)"
      ],
      "execution_count": 42,
      "outputs": [
        {
          "output_type": "stream",
          "text": [
            "time: 402 ms (started: 2021-03-28 18:32:04 +00:00)\n"
          ],
          "name": "stdout"
        }
      ]
    },
    {
      "cell_type": "markdown",
      "metadata": {
        "id": "xsZeIDmmbbJh"
      },
      "source": [
        "# Making the confusion matrix"
      ]
    },
    {
      "cell_type": "code",
      "metadata": {
        "colab": {
          "base_uri": "https://localhost:8080/"
        },
        "id": "3jxECZG9baTM",
        "outputId": "ac2b932b-69f7-47c6-81bb-1b42cc4bb085"
      },
      "source": [
        "from sklearn.metrics import confusion_matrix, accuracy_score\n",
        "cm = confusion_matrix(Y_test,y_pred)\n",
        "print(\"\\t\\n########SVM Kernel Accuracy ########\\n\")\n",
        "print(cm)\n",
        "accuracy = accuracy_score(Y_test,y_pred)\n",
        "print(accuracy)"
      ],
      "execution_count": 43,
      "outputs": [
        {
          "output_type": "stream",
          "text": [
            "\t\n",
            "########SVM Kernel Accuracy ########\n",
            "\n",
            "[[752  63]\n",
            " [ 74  77]]\n",
            "0.8581780538302277\n",
            "time: 16 ms (started: 2021-03-28 18:32:05 +00:00)\n"
          ],
          "name": "stdout"
        }
      ]
    },
    {
      "cell_type": "markdown",
      "metadata": {
        "id": "_Pppxt-Jb29A"
      },
      "source": [
        "# NaiveBayer"
      ]
    },
    {
      "cell_type": "markdown",
      "metadata": {
        "id": "Ro1kAFH9b7Yu"
      },
      "source": [
        "# Training the Classification model on the training set"
      ]
    },
    {
      "cell_type": "code",
      "metadata": {
        "colab": {
          "base_uri": "https://localhost:8080/"
        },
        "id": "ALv5wY8fcEYo",
        "outputId": "326a0743-c6ef-4c4d-9f61-1ca426507f95"
      },
      "source": [
        "from sklearn.naive_bayes import GaussianNB\n",
        "classifier = GaussianNB()\n",
        "classifier.fit(X_train,Y_train)"
      ],
      "execution_count": 44,
      "outputs": [
        {
          "output_type": "execute_result",
          "data": {
            "text/plain": [
              "GaussianNB(priors=None, var_smoothing=1e-09)"
            ]
          },
          "metadata": {
            "tags": []
          },
          "execution_count": 44
        },
        {
          "output_type": "stream",
          "text": [
            "time: 23.8 ms (started: 2021-03-28 18:32:07 +00:00)\n"
          ],
          "name": "stdout"
        }
      ]
    },
    {
      "cell_type": "markdown",
      "metadata": {
        "id": "ouyZocoicH08"
      },
      "source": [
        "# predicting the test set results"
      ]
    },
    {
      "cell_type": "code",
      "metadata": {
        "colab": {
          "base_uri": "https://localhost:8080/"
        },
        "id": "kKKNhGl-cK0G",
        "outputId": "69f1cf04-9186-4346-98b0-fee12ed0f0d2"
      },
      "source": [
        "y_pred = classifier.predict(X_test)"
      ],
      "execution_count": 45,
      "outputs": [
        {
          "output_type": "stream",
          "text": [
            "time: 5.24 ms (started: 2021-03-28 18:32:09 +00:00)\n"
          ],
          "name": "stdout"
        }
      ]
    },
    {
      "cell_type": "markdown",
      "metadata": {
        "id": "JXSvcseGcQG2"
      },
      "source": [
        "# Making the confusion matix"
      ]
    },
    {
      "cell_type": "code",
      "metadata": {
        "colab": {
          "base_uri": "https://localhost:8080/"
        },
        "id": "S4xmMNHGcUWH",
        "outputId": "9eb166e8-2d5f-4abd-b424-be347b307653"
      },
      "source": [
        "from sklearn.metrics import confusion_matrix, accuracy_score\n",
        "cm = confusion_matrix(Y_test,y_pred)\n",
        "print(\"\\t\\n######## NaiveBayer Accuracy ########\\n\")\n",
        "print(cm)\n",
        "accuracy = accuracy_score(Y_test,y_pred)\n",
        "print(accuracy)"
      ],
      "execution_count": 46,
      "outputs": [
        {
          "output_type": "stream",
          "text": [
            "\t\n",
            "######## NaiveBayer Accuracy ########\n",
            "\n",
            "[[ 56 759]\n",
            " [ 11 140]]\n",
            "0.2028985507246377\n",
            "time: 10.9 ms (started: 2021-03-28 18:32:11 +00:00)\n"
          ],
          "name": "stdout"
        }
      ]
    },
    {
      "cell_type": "markdown",
      "metadata": {
        "id": "UmHRe3u3dNQ3"
      },
      "source": [
        "# Decision Tree \n"
      ]
    },
    {
      "cell_type": "markdown",
      "metadata": {
        "id": "X9noIp-WeFcj"
      },
      "source": [
        "# Training the Classification model on the training set"
      ]
    },
    {
      "cell_type": "code",
      "metadata": {
        "colab": {
          "base_uri": "https://localhost:8080/"
        },
        "id": "9OcKXK4EeL1o",
        "outputId": "5c9649c9-1be1-4c19-fa02-fb6a051b4833"
      },
      "source": [
        "from sklearn.tree import DecisionTreeClassifier\n",
        "classifier = DecisionTreeClassifier(criterion= 'entropy', random_state=0)\n",
        "classifier.fit(X_train, Y_train)"
      ],
      "execution_count": 47,
      "outputs": [
        {
          "output_type": "execute_result",
          "data": {
            "text/plain": [
              "DecisionTreeClassifier(ccp_alpha=0.0, class_weight=None, criterion='entropy',\n",
              "                       max_depth=None, max_features=None, max_leaf_nodes=None,\n",
              "                       min_impurity_decrease=0.0, min_impurity_split=None,\n",
              "                       min_samples_leaf=1, min_samples_split=2,\n",
              "                       min_weight_fraction_leaf=0.0, presort='deprecated',\n",
              "                       random_state=0, splitter='best')"
            ]
          },
          "metadata": {
            "tags": []
          },
          "execution_count": 47
        },
        {
          "output_type": "stream",
          "text": [
            "time: 84.4 ms (started: 2021-03-28 18:32:12 +00:00)\n"
          ],
          "name": "stdout"
        }
      ]
    },
    {
      "cell_type": "markdown",
      "metadata": {
        "id": "Qpa83l6qeY8G"
      },
      "source": [
        "# predicting the test set results"
      ]
    },
    {
      "cell_type": "code",
      "metadata": {
        "colab": {
          "base_uri": "https://localhost:8080/"
        },
        "id": "7-YBymQBeddB",
        "outputId": "2925fbfd-b1fd-4e01-e344-1cdab4743f62"
      },
      "source": [
        "y_pred = classifier.predict(X_test)"
      ],
      "execution_count": 48,
      "outputs": [
        {
          "output_type": "stream",
          "text": [
            "time: 2.7 ms (started: 2021-03-28 18:32:14 +00:00)\n"
          ],
          "name": "stdout"
        }
      ]
    },
    {
      "cell_type": "markdown",
      "metadata": {
        "id": "yvDMLBEVeibR"
      },
      "source": [
        "# Making the confusion matix"
      ]
    },
    {
      "cell_type": "code",
      "metadata": {
        "colab": {
          "base_uri": "https://localhost:8080/"
        },
        "id": "dGkmwVyjeodC",
        "outputId": "1c051dff-a387-4025-ce16-5a15ecf06a36"
      },
      "source": [
        "from sklearn.metrics import confusion_matrix, accuracy_score\n",
        "cm = confusion_matrix(Y_test,y_pred)\n",
        "print(\"\\t\\n######## Decision Tree Accuracy ########\\n\")\n",
        "print(cm)\n",
        "accuracy = accuracy_score(Y_test,y_pred)\n",
        "print(accuracy)"
      ],
      "execution_count": 49,
      "outputs": [
        {
          "output_type": "stream",
          "text": [
            "\t\n",
            "######## Decision Tree Accuracy ########\n",
            "\n",
            "[[709 106]\n",
            " [100  51]]\n",
            "0.7867494824016563\n",
            "time: 6.45 ms (started: 2021-03-28 18:32:15 +00:00)\n"
          ],
          "name": "stdout"
        }
      ]
    },
    {
      "cell_type": "markdown",
      "metadata": {
        "id": "PoDk9etCfBxY"
      },
      "source": [
        "# Random forest"
      ]
    },
    {
      "cell_type": "markdown",
      "metadata": {
        "id": "mkGmEbM6fQi5"
      },
      "source": [
        "# Training the Classification model on the training set"
      ]
    },
    {
      "cell_type": "code",
      "metadata": {
        "colab": {
          "base_uri": "https://localhost:8080/"
        },
        "id": "oCxt6d0_fMh2",
        "outputId": "d7df8b8d-ade5-47e4-d116-aeaa4f4f9275"
      },
      "source": [
        "from sklearn.ensemble import RandomForestClassifier\n",
        "classifier = RandomForestClassifier(n_estimators= 200, criterion='entropy', random_state= 0)\n",
        "classifier.fit(X_train, Y_train)"
      ],
      "execution_count": 50,
      "outputs": [
        {
          "output_type": "execute_result",
          "data": {
            "text/plain": [
              "RandomForestClassifier(bootstrap=True, ccp_alpha=0.0, class_weight=None,\n",
              "                       criterion='entropy', max_depth=None, max_features='auto',\n",
              "                       max_leaf_nodes=None, max_samples=None,\n",
              "                       min_impurity_decrease=0.0, min_impurity_split=None,\n",
              "                       min_samples_leaf=1, min_samples_split=2,\n",
              "                       min_weight_fraction_leaf=0.0, n_estimators=200,\n",
              "                       n_jobs=None, oob_score=False, random_state=0, verbose=0,\n",
              "                       warm_start=False)"
            ]
          },
          "metadata": {
            "tags": []
          },
          "execution_count": 50
        },
        {
          "output_type": "stream",
          "text": [
            "time: 1.53 s (started: 2021-03-28 18:32:17 +00:00)\n"
          ],
          "name": "stdout"
        }
      ]
    },
    {
      "cell_type": "markdown",
      "metadata": {
        "id": "9YFHeUZvf0LB"
      },
      "source": [
        "# predicting the test set results"
      ]
    },
    {
      "cell_type": "code",
      "metadata": {
        "colab": {
          "base_uri": "https://localhost:8080/"
        },
        "id": "s2ttwEfWf4zM",
        "outputId": "934c0677-8d24-4e9e-ff77-fb85c26fa3bf"
      },
      "source": [
        "y_pred = classifier.predict(X_test)"
      ],
      "execution_count": 51,
      "outputs": [
        {
          "output_type": "stream",
          "text": [
            "time: 80.4 ms (started: 2021-03-28 18:32:19 +00:00)\n"
          ],
          "name": "stdout"
        }
      ]
    },
    {
      "cell_type": "markdown",
      "metadata": {
        "id": "8O8pKVzGf9bd"
      },
      "source": [
        "# Making the confusion matix"
      ]
    },
    {
      "cell_type": "code",
      "metadata": {
        "colab": {
          "base_uri": "https://localhost:8080/"
        },
        "id": "usKc65X6gujt",
        "outputId": "55651e46-8d89-4224-f262-e58ec4a55d64"
      },
      "source": [
        "from sklearn.metrics import confusion_matrix, accuracy_score\n",
        "cm = confusion_matrix(Y_test,y_pred)\n",
        "print(\"\\t\\n######## Random forest Accuracy ########\\n\")\n",
        "print(cm)\n",
        "accuracy = accuracy_score(Y_test,y_pred)\n",
        "print(accuracy)"
      ],
      "execution_count": 52,
      "outputs": [
        {
          "output_type": "stream",
          "text": [
            "\t\n",
            "######## Random forest Accuracy ########\n",
            "\n",
            "[[764  51]\n",
            " [ 99  52]]\n",
            "0.84472049689441\n",
            "time: 8.55 ms (started: 2021-03-28 18:32:20 +00:00)\n"
          ],
          "name": "stdout"
        }
      ]
    },
    {
      "cell_type": "markdown",
      "metadata": {
        "id": "8YNMw61chaex"
      },
      "source": [
        "# Since Kernel SVM Let us apply Dimensionality reduction"
      ]
    },
    {
      "cell_type": "markdown",
      "metadata": {
        "id": "cSWKRbmMT_J9"
      },
      "source": [
        "# Applying LDA"
      ]
    },
    {
      "cell_type": "code",
      "metadata": {
        "colab": {
          "base_uri": "https://localhost:8080/"
        },
        "id": "xUVfbyawUCaR",
        "outputId": "1d5bc2d1-823f-4de7-f5f7-85815b658934"
      },
      "source": [
        "from sklearn.discriminant_analysis import LinearDiscriminantAnalysis as LDA\n",
        "lda = LDA(n_components=1)\n",
        "X_train = lda.fit_transform(X_train, Y_train)\n",
        "X_test = lda.transform(X_test)"
      ],
      "execution_count": 53,
      "outputs": [
        {
          "output_type": "stream",
          "text": [
            "time: 167 ms (started: 2021-03-28 18:32:23 +00:00)\n"
          ],
          "name": "stdout"
        }
      ]
    },
    {
      "cell_type": "markdown",
      "metadata": {
        "id": "KOxRcEqWjP5C"
      },
      "source": [
        "# Training the Classification model on the training set"
      ]
    },
    {
      "cell_type": "code",
      "metadata": {
        "colab": {
          "base_uri": "https://localhost:8080/"
        },
        "id": "11CRqRWUjilt",
        "outputId": "38f29687-cc0c-46f3-fcb0-8c088b67bb75"
      },
      "source": [
        "from sklearn.svm import SVC\n",
        "classifier = SVC(kernel='rbf', )\n",
        "classifier.fit(X_train,Y_train)"
      ],
      "execution_count": 54,
      "outputs": [
        {
          "output_type": "execute_result",
          "data": {
            "text/plain": [
              "SVC(C=1.0, break_ties=False, cache_size=200, class_weight=None, coef0=0.0,\n",
              "    decision_function_shape='ovr', degree=3, gamma='scale', kernel='rbf',\n",
              "    max_iter=-1, probability=False, random_state=None, shrinking=True,\n",
              "    tol=0.001, verbose=False)"
            ]
          },
          "metadata": {
            "tags": []
          },
          "execution_count": 54
        },
        {
          "output_type": "stream",
          "text": [
            "time: 331 ms (started: 2021-03-28 18:32:26 +00:00)\n"
          ],
          "name": "stdout"
        }
      ]
    },
    {
      "cell_type": "markdown",
      "metadata": {
        "id": "JR_veJlKkewm"
      },
      "source": [
        "# predicting the test set results"
      ]
    },
    {
      "cell_type": "code",
      "metadata": {
        "colab": {
          "base_uri": "https://localhost:8080/"
        },
        "id": "L0khlIBskywr",
        "outputId": "67457db9-cdf0-4deb-932d-1d189a469a8c"
      },
      "source": [
        "y_pred = classifier.predict(X_test)\n",
        "print(np.concatenate((y_pred.reshape(len(y_pred),1),Y_test.reshape(len(Y_test),1)),1))"
      ],
      "execution_count": 55,
      "outputs": [
        {
          "output_type": "stream",
          "text": [
            "[[0. 0.]\n",
            " [0. 0.]\n",
            " [0. 0.]\n",
            " ...\n",
            " [0. 0.]\n",
            " [1. 0.]\n",
            " [1. 0.]]\n",
            "time: 42 ms (started: 2021-03-28 18:32:28 +00:00)\n"
          ],
          "name": "stdout"
        }
      ]
    },
    {
      "cell_type": "markdown",
      "metadata": {
        "id": "87HYSGkqlU3e"
      },
      "source": [
        "# Making the confusion matix"
      ]
    },
    {
      "cell_type": "code",
      "metadata": {
        "colab": {
          "base_uri": "https://localhost:8080/"
        },
        "id": "xQu62fA7lsqO",
        "outputId": "c4f5fcbe-1455-4466-a8af-7a71983836ef"
      },
      "source": [
        "from sklearn.metrics import confusion_matrix, accuracy_score\n",
        "cm = confusion_matrix(Y_test,y_pred)\n",
        "print(cm)\n",
        "\n",
        "accuracy = accuracy_score(Y_test,y_pred)\n",
        "print(accuracy)"
      ],
      "execution_count": 80,
      "outputs": [
        {
          "output_type": "stream",
          "text": [
            "[[1365  112]\n",
            " [ 153  161]]\n",
            "0.852037967615857\n",
            "time: 16.8 ms (started: 2021-03-26 13:49:11 +00:00)\n"
          ],
          "name": "stdout"
        }
      ]
    },
    {
      "cell_type": "markdown",
      "metadata": {
        "id": "VoHsM2_2mPE6"
      },
      "source": [
        "# Applying k-Fold Cross Validation"
      ]
    },
    {
      "cell_type": "code",
      "metadata": {
        "colab": {
          "base_uri": "https://localhost:8080/"
        },
        "id": "AvIj2qg2mY5Z",
        "outputId": "e086fae9-3831-447d-e95a-82116d6a57c1"
      },
      "source": [
        "from sklearn.model_selection import cross_val_score\n",
        "accuracies = cross_val_score(estimator=classifier, X=X_train, y=Y_train, cv=10)\n",
        "print(\"Accuracy: {:.2f} %\".format(accuracies.mean()*100))\n",
        "print(\"Standard Deviation :{:.2f} %\".format(accuracies.std()*100))"
      ],
      "execution_count": 81,
      "outputs": [
        {
          "output_type": "stream",
          "text": [
            "Accuracy: 86.39 %\n",
            "Standard Deviation :0.83 %\n",
            "time: 8.42 s (started: 2021-03-26 13:49:11 +00:00)\n"
          ],
          "name": "stdout"
        }
      ]
    },
    {
      "cell_type": "markdown",
      "metadata": {
        "id": "UVDv1B3Am0ce"
      },
      "source": [
        "# Grid Search"
      ]
    },
    {
      "cell_type": "code",
      "metadata": {
        "colab": {
          "base_uri": "https://localhost:8080/"
        },
        "id": "jtPpbsMfm5-Y",
        "outputId": "46639625-fac8-4518-9b90-1a2455b2b8b4"
      },
      "source": [
        "from sklearn.model_selection import GridSearchCV\n",
        "parameters = [{'C': [0.25, 0.5, 0.75, 1, 1.25, 1.50, 1.75, 2], 'kernel': ['linear']},\n",
        "              {'C': [0.25, 0.5, 0.75, 1, 1.25, 1.50, 1.75, 2], 'kernel': ['rbf'], 'gamma': [0.1, 0.2, 0.3, 0.4, 0.5, 0.6, 0.7, 0.8, 0.9]}\n",
        "             ]\n",
        "\n",
        "grid_search = GridSearchCV(estimator=classifier, param_grid=parameters, scoring='accuracy',\n",
        "                           cv=10, n_jobs=-1)\n",
        "grid_search.fit(X_train, Y_train)\n",
        "best_accuracy = grid_search.best_score_\n",
        "best_parameters = grid_search.best_params_\n",
        "print(\"Best Accuracy: {:.2f} %\".format(best_accuracy*100))\n",
        "print(\"Best Parameters: \", best_parameters)\n"
      ],
      "execution_count": 82,
      "outputs": [
        {
          "output_type": "stream",
          "text": [
            "Best Accuracy: 86.39 %\n",
            "Best Parameters:  {'C': 0.25, 'gamma': 0.1, 'kernel': 'rbf'}\n",
            "time: 7min 55s (started: 2021-03-26 13:49:19 +00:00)\n"
          ],
          "name": "stdout"
        }
      ]
    },
    {
      "cell_type": "markdown",
      "metadata": {
        "id": "ieOUc39xraiv"
      },
      "source": [
        "# graph"
      ]
    },
    {
      "cell_type": "markdown",
      "metadata": {
        "id": "M6eMkiZb3yvA"
      },
      "source": [
        "# Confusion Matrix"
      ]
    },
    {
      "cell_type": "code",
      "metadata": {
        "colab": {
          "base_uri": "https://localhost:8080/",
          "height": 465
        },
        "id": "Hf2SHzhBs-2e",
        "outputId": "511c7804-1dab-49b1-8e98-1911f504ef4c"
      },
      "source": [
        "import seaborn as sn\n",
        "import pandas as pd\n",
        "import matplotlib.pyplot as plt\n",
        "cm\n",
        "df_cm = pd.DataFrame(cm, range(2), range(2))\n",
        "plt.figure(figsize = (10,7))\n",
        "sn.heatmap(df_cm/np.sum(df_cm), annot=True, \n",
        "            fmt='.2%', cmap='Blues')"
      ],
      "execution_count": 83,
      "outputs": [
        {
          "output_type": "execute_result",
          "data": {
            "text/plain": [
              "<matplotlib.axes._subplots.AxesSubplot at 0x7fdaaa205550>"
            ]
          },
          "metadata": {
            "tags": []
          },
          "execution_count": 83
        },
        {
          "output_type": "display_data",
          "data": {
            "image/png": "[encoded data removed]",
            "text/plain": [
              "<Figure size 720x504 with 2 Axes>"
            ]
          },
          "metadata": {
            "tags": [],
            "needs_background": "light"
          }
        },
        {
          "output_type": "stream",
          "text": [
            "time: 270 ms (started: 2021-03-26 13:57:15 +00:00)\n"
          ],
          "name": "stdout"
        }
      ]
    },
    {
      "cell_type": "markdown",
      "metadata": {
        "id": "OtqD8ihc5WfT"
      },
      "source": [
        "Classification Graph"
      ]
    },
    {
      "cell_type": "code",
      "metadata": {
        "colab": {
          "base_uri": "https://localhost:8080/",
          "height": 1000
        },
        "id": "aSDQy8D57XRt",
        "outputId": "a129284e-abcc-4a61-99a5-4f09d6c553dc"
      },
      "source": [
        "# TODO ########################################################### Data SET #################################################################\n",
        "# Todo: Importing the traning Dataset\n",
        "dataset = pd.read_csv('aug_train.csv')\n",
        "\n",
        "# Todo: Taking care of missing data\n",
        "dataset = dataset.dropna()\n",
        "\n",
        "# Todo: onehotencoding the city col\n",
        "labelencoder = LabelEncoder()\n",
        "dataset['city'] = labelencoder.fit_transform(dataset['city'])\n",
        "# todo: oneHot encoding the gender col\n",
        "dataset = pd.get_dummies(dataset, columns=[\"gender\"], prefix=[\"\"])\n",
        "dataset = dataset.drop(['_Other'], axis=1)\n",
        "\n",
        "# Todo: Label encoding the experience relevences col\n",
        "labelencoder = LabelEncoder()\n",
        "dataset['relevent_experience'] = labelencoder.fit_transform(dataset['relevent_experience'])\n",
        "\n",
        "# todo: onehotencoding the enrolled university col\n",
        "dataset = pd.get_dummies(dataset, columns=[\"enrolled_university\"], prefix=[\"\"])\n",
        "dataset = dataset.drop(['_no_enrollment'], axis=1)\n",
        "\n",
        "# todo: onehotencoding the education_level col\n",
        "dataset.rename(columns={'education_level': 'education'}, inplace=True)\n",
        "dataset = pd.get_dummies(dataset, columns=[\"education\"], prefix=[\"Education\"])\n",
        "dataset = dataset.drop(['Education_Phd'], axis=1)\n",
        "\n",
        "# todo: onehotencoding the major discipline col\n",
        "dataset = pd.get_dummies(dataset, columns=[\"major_discipline\"], prefix=[\"MajorDegreeIn\"])\n",
        "dataset = dataset.drop(['MajorDegreeIn_Other'], axis=1)\n",
        "\n",
        "# todo: replacing '>20' with 21 in the experience col\n",
        "dataset[\"experience\"].replace({\"<1\": \"0\", \">20\": \"21\"}, inplace=True)\n",
        "\n",
        "# todo: onehotencoding the company size col\n",
        "dataset = pd.get_dummies(dataset, columns=[\"company_size\"], prefix=[\"companySize\"])\n",
        "dataset = dataset.drop(['companySize_500-999'], axis=1)\n",
        "\n",
        "# todo: onehotencoding the company_type col\n",
        "dataset = pd.get_dummies(dataset, columns=[\"company_type\"], prefix=[\"companyType\"])\n",
        "dataset = dataset.drop(['companyType_Other'], axis=1)\n",
        "\n",
        "# todo: replace '>4' with 5  in the last_new jod col\n",
        "dataset[\"last_new_job\"].replace({\"never\": \"0\", \">4\": \"5\"}, inplace=True)\n",
        "\n",
        "# todo: coverting the columns to numeric\n",
        "dataset.apply(pd.to_numeric)\n",
        "\n",
        "# todo: moving the target column to the last\n",
        "cols = list(dataset.columns.values)\n",
        "cols.pop(cols.index('target'))\n",
        "dataset = dataset[cols + ['target']]\n",
        "# print(dataset)\n",
        "\n",
        "# todo see infuluence of the dev city and experience relevence\n",
        "X = dataset.iloc[:, 1:-1].values\n",
        "Y = dataset.iloc[:, -1].values\n",
        "x1 =dataset.iloc[:, 1:-1].values\n",
        "\n",
        "# Todo: Splitting the dataset into Training set and Test set\n",
        "from sklearn.model_selection import train_test_split\n",
        "\n",
        "X_train, X_test, Y_train, Y_test = train_test_split(X, Y, test_size=0.2, random_state=0)\n",
        "\n",
        "# todo: feature Scaling\n",
        "from sklearn.preprocessing import StandardScaler\n",
        "\n",
        "sc = StandardScaler()\n",
        "X_train = sc.fit_transform(X_train)\n",
        "X_test = sc.transform(X_test)\n",
        "x1 = sc.transform(x1)\n",
        "print(X_train)\n",
        "print(X_test)\n",
        "\n",
        "# todo: Training the logistic Regression model on the training set\n",
        "from sklearn.svm import SVC\n",
        "classifier = SVC(kernel='rbf', C=0.25 , gamma=0.1)\n",
        "classifier.fit(X_train,Y_train)\n",
        "\n",
        "# todo: predicting the test set results\n",
        "y_pred = classifier.predict(X_test)\n",
        "print(np.concatenate((y_pred.reshape(len(y_pred), 1), Y_test.reshape(len(Y_test), 1)), 1))\n",
        "\n",
        "# todo: Making the confusion matix\n",
        "from sklearn.metrics import confusion_matrix, accuracy_score\n",
        "\n",
        "cm = confusion_matrix(Y_test, y_pred)\n",
        "print(cm)\n",
        "\n",
        "accuracy = accuracy_score(Y_test, y_pred)\n",
        "print(accuracy)\n",
        "\n",
        "# todo: Applying k-Fold Cross Validation\n",
        "from sklearn.model_selection import cross_val_score\n",
        "\n",
        "accuracies = cross_val_score(estimator=classifier, X=X_train, y=Y_train, cv=10)\n",
        "print(\"Accuracy: {:.2f} %\".format(accuracies.mean() * 100))\n",
        "print(\"Standard Deviation :{:.2f} %\".format(accuracies.std() * 100))\n",
        "\n",
        "# Todo:graph\n",
        "# todo:Visualising the Training set results\n",
        "from matplotlib.colors import ListedColormap\n",
        "\n",
        "X_set, y_set = X_test, Y_test\n",
        "X1, X2 = np.meshgrid(np.arange(start=X_set[:, 0].min() - 1, stop=X_set[:, 0].max() + 1, step=1),\n",
        "                     np.arange(start=X_set[:, 1].min() - 1, stop=X_set[:, 1].max() + 1, step=1))\n",
        "Xpred = np.array([X1.ravel(), X2.ravel()] + [np.repeat(0, X1.ravel().size) for _ in range(27)]).T\n",
        "# Xpred now has a grid for x1 and x2 and average value (0) for x3 through x13\n",
        "pred = classifier.predict(Xpred).reshape(X1.shape)  # is a matrix of 0's and 1's !\n",
        "pred = classifier.decision_function(Xpred).reshape(X1.shape)\n",
        "plt.contourf(X1, X2, pred, alpha=1.0, cmap=\"RdYlGn\", levels=np.linspace(pred.min(), pred.max(), 100))\n",
        "\n",
        "plt.xlim(X1.min(), X1.max())\n",
        "plt.ylim(X2.min(), X2.max())\n",
        "for i, j in enumerate(np.unique(y_set)):\n",
        "    plt.scatter(X_set[y_set == j, 0], X_set[y_set == j, 1], c=ListedColormap(('red', 'green'))(i), label=j)\n",
        "plt.title('Classification')\n",
        "plt.xlabel('Datascience featue scale')\n",
        "plt.ylabel('How Likely to Leave')\n",
        "plt.legend()\n",
        "plt.show()"
      ],
      "execution_count": 92,
      "outputs": [
        {
          "output_type": "stream",
          "text": [
            "[[ 0.62336122 -1.90657105 -0.3797712  ... -0.20686894 -0.26437185\n",
            "   0.57412662]\n",
            " [-1.03499032  0.64553049 -0.3797712  ...  4.83397838 -0.26437185\n",
            "  -1.74177604]\n",
            " [ 0.62336122 -1.90657105 -0.3797712  ... -0.20686894 -0.26437185\n",
            "   0.57412662]\n",
            " ...\n",
            " [ 1.76913138  0.80934782 -0.3797712  ... -0.20686894 -0.26437185\n",
            "   0.57412662]\n",
            " [-0.85407924 -2.54459643 -0.3797712  ... -0.20686894 -0.26437185\n",
            "   0.57412662]\n",
            " [-1.03499032  0.64553049 -0.3797712  ... -0.20686894 -0.26437185\n",
            "  -1.74177604]]\n",
            "[[ 0.62336122 -1.90657105 -0.3797712  ... -0.20686894 -0.26437185\n",
            "   0.57412662]\n",
            " [ 0.20123537  0.55931084 -0.3797712  ... -0.20686894 -0.26437185\n",
            "  -1.74177604]\n",
            " [-1.03499032  0.64553049 -0.3797712  ... -0.20686894 -0.26437185\n",
            "  -1.74177604]\n",
            " ...\n",
            " [ 0.20123537  0.55931084 -0.3797712  ... -0.20686894 -0.26437185\n",
            "   0.57412662]\n",
            " [-1.00483848  0.68001835 -0.3797712  ... -0.20686894 -0.26437185\n",
            "   0.57412662]\n",
            " [ 0.20123537  0.55931084 -0.3797712  ... -0.20686894 -0.26437185\n",
            "   0.57412662]]\n",
            "[[0. 0.]\n",
            " [0. 0.]\n",
            " [0. 0.]\n",
            " ...\n",
            " [0. 0.]\n",
            " [0. 1.]\n",
            " [0. 0.]]\n",
            "[[1451   26]\n",
            " [ 260   54]]\n",
            "0.8403126744835288\n"
          ],
          "name": "stdout"
        },
        {
          "output_type": "stream",
          "text": [
            "*c* argument looks like a single numeric RGB or RGBA sequence, which should be avoided as value-mapping will have precedence in case its length matches with *x* & *y*.  Please use the *color* keyword-argument or provide a 2-D array with a single row if you intend to specify the same RGB or RGBA value for all points.\n",
            "*c* argument looks like a single numeric RGB or RGBA sequence, which should be avoided as value-mapping will have precedence in case its length matches with *x* & *y*.  Please use the *color* keyword-argument or provide a 2-D array with a single row if you intend to specify the same RGB or RGBA value for all points.\n"
          ],
          "name": "stderr"
        },
        {
          "output_type": "stream",
          "text": [
            "Accuracy: 84.42 %\n",
            "Standard Deviation :0.42 %\n"
          ],
          "name": "stdout"
        },
        {
          "output_type": "display_data",
          "data": {
            "image/png": "[encoded data removed]",
            "text/plain": [
              "<Figure size 432x288 with 1 Axes>"
            ]
          },
          "metadata": {
            "tags": [],
            "needs_background": "light"
          }
        },
        {
          "output_type": "stream",
          "text": [
            "time: 23.5 s (started: 2021-03-28 18:53:40 +00:00)\n"
          ],
          "name": "stdout"
        }
      ]
    },
    {
      "cell_type": "code",
      "metadata": {
        "id": "68KBQXvZKtDn"
      },
      "source": [
        ""
      ],
      "execution_count": null,
      "outputs": []
    },
    {
      "cell_type": "code",
      "metadata": {
        "colab": {
          "base_uri": "https://localhost:8080/"
        },
        "id": "jc4V_dJtI4h_",
        "outputId": "8f0fc2df-b054-4622-c43c-67c70a3466cc"
      },
      "source": [
        "y_pred = classifier.predict(np.reshape(x1[0,:],(-1,29)))\n",
        "print(y_pred)\n",
        "print(dataset.iloc[0,-1])\n",
        "\n",
        "if dataset.iloc[3,-1] == y_pred:\n",
        "  print(\"Prediction was right the employee will leave the company!!\")\n",
        "else:\n",
        "  print(\" employee will not leave the company!!\")\n"
      ],
      "execution_count": 104,
      "outputs": [
        {
          "output_type": "stream",
          "text": [
            "[0.]\n",
            "0.0\n",
            " employee will not leave the company!!\n",
            "time: 9.59 ms (started: 2021-03-28 19:03:18 +00:00)\n"
          ],
          "name": "stdout"
        }
      ]
    },
    {
      "cell_type": "code",
      "metadata": {
        "colab": {
          "base_uri": "https://localhost:8080/",
          "height": 472
        },
        "id": "plWWS33hM27n",
        "outputId": "46ea5506-1553-4663-e5f6-2e5e79332523"
      },
      "source": [
        "dataset"
      ],
      "execution_count": 97,
      "outputs": [
        {
          "output_type": "execute_result",
          "data": {
            "text/html": [
              "<div>\n",
              "<style scoped>\n",
              "    .dataframe tbody tr th:only-of-type {\n",
              "        vertical-align: middle;\n",
              "    }\n",
              "\n",
              "    .dataframe tbody tr th {\n",
              "        vertical-align: top;\n",
              "    }\n",
              "\n",
              "    .dataframe thead th {\n",
              "        text-align: right;\n",
              "    }\n",
              "</style>\n",
              "<table border=\"1\" class=\"dataframe\">\n",
              "  <thead>\n",
              "    <tr style=\"text-align: right;\">\n",
              "      <th></th>\n",
              "      <th>enrollee_id</th>\n",
              "      <th>city</th>\n",
              "      <th>city_development_index</th>\n",
              "      <th>relevent_experience</th>\n",
              "      <th>experience</th>\n",
              "      <th>last_new_job</th>\n",
              "      <th>training_hours</th>\n",
              "      <th>_Female</th>\n",
              "      <th>_Male</th>\n",
              "      <th>_Full time course</th>\n",
              "      <th>_Part time course</th>\n",
              "      <th>Education_Graduate</th>\n",
              "      <th>Education_Masters</th>\n",
              "      <th>MajorDegreeIn_Arts</th>\n",
              "      <th>MajorDegreeIn_Business Degree</th>\n",
              "      <th>MajorDegreeIn_Humanities</th>\n",
              "      <th>MajorDegreeIn_No Major</th>\n",
              "      <th>MajorDegreeIn_STEM</th>\n",
              "      <th>companySize_10/49</th>\n",
              "      <th>companySize_100-500</th>\n",
              "      <th>companySize_1000-4999</th>\n",
              "      <th>companySize_10000+</th>\n",
              "      <th>companySize_50-99</th>\n",
              "      <th>companySize_5000-9999</th>\n",
              "      <th>companySize_&lt;10</th>\n",
              "      <th>companyType_Early Stage Startup</th>\n",
              "      <th>companyType_Funded Startup</th>\n",
              "      <th>companyType_NGO</th>\n",
              "      <th>companyType_Public Sector</th>\n",
              "      <th>companyType_Pvt Ltd</th>\n",
              "      <th>target</th>\n",
              "    </tr>\n",
              "  </thead>\n",
              "  <tbody>\n",
              "    <tr>\n",
              "      <th>1</th>\n",
              "      <td>29725</td>\n",
              "      <td>72</td>\n",
              "      <td>0.776</td>\n",
              "      <td>1</td>\n",
              "      <td>15</td>\n",
              "      <td>5</td>\n",
              "      <td>47</td>\n",
              "      <td>0</td>\n",
              "      <td>1</td>\n",
              "      <td>0</td>\n",
              "      <td>0</td>\n",
              "      <td>1</td>\n",
              "      <td>0</td>\n",
              "      <td>0</td>\n",
              "      <td>0</td>\n",
              "      <td>0</td>\n",
              "      <td>0</td>\n",
              "      <td>1</td>\n",
              "      <td>0</td>\n",
              "      <td>0</td>\n",
              "      <td>0</td>\n",
              "      <td>0</td>\n",
              "      <td>1</td>\n",
              "      <td>0</td>\n",
              "      <td>0</td>\n",
              "      <td>0</td>\n",
              "      <td>0</td>\n",
              "      <td>0</td>\n",
              "      <td>0</td>\n",
              "      <td>1</td>\n",
              "      <td>0.0</td>\n",
              "    </tr>\n",
              "    <tr>\n",
              "      <th>4</th>\n",
              "      <td>666</td>\n",
              "      <td>48</td>\n",
              "      <td>0.767</td>\n",
              "      <td>0</td>\n",
              "      <td>21</td>\n",
              "      <td>4</td>\n",
              "      <td>8</td>\n",
              "      <td>0</td>\n",
              "      <td>1</td>\n",
              "      <td>0</td>\n",
              "      <td>0</td>\n",
              "      <td>0</td>\n",
              "      <td>1</td>\n",
              "      <td>0</td>\n",
              "      <td>0</td>\n",
              "      <td>0</td>\n",
              "      <td>0</td>\n",
              "      <td>1</td>\n",
              "      <td>0</td>\n",
              "      <td>0</td>\n",
              "      <td>0</td>\n",
              "      <td>0</td>\n",
              "      <td>1</td>\n",
              "      <td>0</td>\n",
              "      <td>0</td>\n",
              "      <td>0</td>\n",
              "      <td>1</td>\n",
              "      <td>0</td>\n",
              "      <td>0</td>\n",
              "      <td>0</td>\n",
              "      <td>0.0</td>\n",
              "    </tr>\n",
              "    <tr>\n",
              "      <th>7</th>\n",
              "      <td>402</td>\n",
              "      <td>78</td>\n",
              "      <td>0.762</td>\n",
              "      <td>0</td>\n",
              "      <td>13</td>\n",
              "      <td>5</td>\n",
              "      <td>18</td>\n",
              "      <td>0</td>\n",
              "      <td>1</td>\n",
              "      <td>0</td>\n",
              "      <td>0</td>\n",
              "      <td>1</td>\n",
              "      <td>0</td>\n",
              "      <td>0</td>\n",
              "      <td>0</td>\n",
              "      <td>0</td>\n",
              "      <td>0</td>\n",
              "      <td>1</td>\n",
              "      <td>0</td>\n",
              "      <td>0</td>\n",
              "      <td>0</td>\n",
              "      <td>0</td>\n",
              "      <td>0</td>\n",
              "      <td>0</td>\n",
              "      <td>1</td>\n",
              "      <td>0</td>\n",
              "      <td>0</td>\n",
              "      <td>0</td>\n",
              "      <td>0</td>\n",
              "      <td>1</td>\n",
              "      <td>1.0</td>\n",
              "    </tr>\n",
              "    <tr>\n",
              "      <th>8</th>\n",
              "      <td>27107</td>\n",
              "      <td>5</td>\n",
              "      <td>0.920</td>\n",
              "      <td>0</td>\n",
              "      <td>7</td>\n",
              "      <td>1</td>\n",
              "      <td>46</td>\n",
              "      <td>0</td>\n",
              "      <td>1</td>\n",
              "      <td>0</td>\n",
              "      <td>0</td>\n",
              "      <td>1</td>\n",
              "      <td>0</td>\n",
              "      <td>0</td>\n",
              "      <td>0</td>\n",
              "      <td>0</td>\n",
              "      <td>0</td>\n",
              "      <td>1</td>\n",
              "      <td>0</td>\n",
              "      <td>0</td>\n",
              "      <td>0</td>\n",
              "      <td>0</td>\n",
              "      <td>1</td>\n",
              "      <td>0</td>\n",
              "      <td>0</td>\n",
              "      <td>0</td>\n",
              "      <td>0</td>\n",
              "      <td>0</td>\n",
              "      <td>0</td>\n",
              "      <td>1</td>\n",
              "      <td>1.0</td>\n",
              "    </tr>\n",
              "    <tr>\n",
              "      <th>11</th>\n",
              "      <td>23853</td>\n",
              "      <td>5</td>\n",
              "      <td>0.920</td>\n",
              "      <td>0</td>\n",
              "      <td>5</td>\n",
              "      <td>1</td>\n",
              "      <td>108</td>\n",
              "      <td>0</td>\n",
              "      <td>1</td>\n",
              "      <td>0</td>\n",
              "      <td>0</td>\n",
              "      <td>1</td>\n",
              "      <td>0</td>\n",
              "      <td>0</td>\n",
              "      <td>0</td>\n",
              "      <td>0</td>\n",
              "      <td>0</td>\n",
              "      <td>1</td>\n",
              "      <td>0</td>\n",
              "      <td>0</td>\n",
              "      <td>0</td>\n",
              "      <td>0</td>\n",
              "      <td>0</td>\n",
              "      <td>1</td>\n",
              "      <td>0</td>\n",
              "      <td>0</td>\n",
              "      <td>0</td>\n",
              "      <td>0</td>\n",
              "      <td>0</td>\n",
              "      <td>1</td>\n",
              "      <td>0.0</td>\n",
              "    </tr>\n",
              "    <tr>\n",
              "      <th>...</th>\n",
              "      <td>...</td>\n",
              "      <td>...</td>\n",
              "      <td>...</td>\n",
              "      <td>...</td>\n",
              "      <td>...</td>\n",
              "      <td>...</td>\n",
              "      <td>...</td>\n",
              "      <td>...</td>\n",
              "      <td>...</td>\n",
              "      <td>...</td>\n",
              "      <td>...</td>\n",
              "      <td>...</td>\n",
              "      <td>...</td>\n",
              "      <td>...</td>\n",
              "      <td>...</td>\n",
              "      <td>...</td>\n",
              "      <td>...</td>\n",
              "      <td>...</td>\n",
              "      <td>...</td>\n",
              "      <td>...</td>\n",
              "      <td>...</td>\n",
              "      <td>...</td>\n",
              "      <td>...</td>\n",
              "      <td>...</td>\n",
              "      <td>...</td>\n",
              "      <td>...</td>\n",
              "      <td>...</td>\n",
              "      <td>...</td>\n",
              "      <td>...</td>\n",
              "      <td>...</td>\n",
              "      <td>...</td>\n",
              "    </tr>\n",
              "    <tr>\n",
              "      <th>19147</th>\n",
              "      <td>21319</td>\n",
              "      <td>60</td>\n",
              "      <td>0.624</td>\n",
              "      <td>1</td>\n",
              "      <td>1</td>\n",
              "      <td>1</td>\n",
              "      <td>52</td>\n",
              "      <td>0</td>\n",
              "      <td>1</td>\n",
              "      <td>1</td>\n",
              "      <td>0</td>\n",
              "      <td>1</td>\n",
              "      <td>0</td>\n",
              "      <td>0</td>\n",
              "      <td>0</td>\n",
              "      <td>0</td>\n",
              "      <td>0</td>\n",
              "      <td>1</td>\n",
              "      <td>0</td>\n",
              "      <td>1</td>\n",
              "      <td>0</td>\n",
              "      <td>0</td>\n",
              "      <td>0</td>\n",
              "      <td>0</td>\n",
              "      <td>0</td>\n",
              "      <td>0</td>\n",
              "      <td>0</td>\n",
              "      <td>0</td>\n",
              "      <td>0</td>\n",
              "      <td>1</td>\n",
              "      <td>1.0</td>\n",
              "    </tr>\n",
              "    <tr>\n",
              "      <th>19149</th>\n",
              "      <td>251</td>\n",
              "      <td>5</td>\n",
              "      <td>0.920</td>\n",
              "      <td>0</td>\n",
              "      <td>9</td>\n",
              "      <td>1</td>\n",
              "      <td>36</td>\n",
              "      <td>0</td>\n",
              "      <td>1</td>\n",
              "      <td>0</td>\n",
              "      <td>0</td>\n",
              "      <td>0</td>\n",
              "      <td>1</td>\n",
              "      <td>0</td>\n",
              "      <td>0</td>\n",
              "      <td>0</td>\n",
              "      <td>0</td>\n",
              "      <td>1</td>\n",
              "      <td>0</td>\n",
              "      <td>0</td>\n",
              "      <td>0</td>\n",
              "      <td>0</td>\n",
              "      <td>1</td>\n",
              "      <td>0</td>\n",
              "      <td>0</td>\n",
              "      <td>0</td>\n",
              "      <td>0</td>\n",
              "      <td>0</td>\n",
              "      <td>0</td>\n",
              "      <td>1</td>\n",
              "      <td>1.0</td>\n",
              "    </tr>\n",
              "    <tr>\n",
              "      <th>19150</th>\n",
              "      <td>32313</td>\n",
              "      <td>47</td>\n",
              "      <td>0.920</td>\n",
              "      <td>0</td>\n",
              "      <td>10</td>\n",
              "      <td>3</td>\n",
              "      <td>23</td>\n",
              "      <td>1</td>\n",
              "      <td>0</td>\n",
              "      <td>0</td>\n",
              "      <td>0</td>\n",
              "      <td>1</td>\n",
              "      <td>0</td>\n",
              "      <td>0</td>\n",
              "      <td>0</td>\n",
              "      <td>0</td>\n",
              "      <td>0</td>\n",
              "      <td>1</td>\n",
              "      <td>0</td>\n",
              "      <td>1</td>\n",
              "      <td>0</td>\n",
              "      <td>0</td>\n",
              "      <td>0</td>\n",
              "      <td>0</td>\n",
              "      <td>0</td>\n",
              "      <td>0</td>\n",
              "      <td>0</td>\n",
              "      <td>0</td>\n",
              "      <td>1</td>\n",
              "      <td>0</td>\n",
              "      <td>0.0</td>\n",
              "    </tr>\n",
              "    <tr>\n",
              "      <th>19152</th>\n",
              "      <td>29754</td>\n",
              "      <td>5</td>\n",
              "      <td>0.920</td>\n",
              "      <td>0</td>\n",
              "      <td>7</td>\n",
              "      <td>1</td>\n",
              "      <td>25</td>\n",
              "      <td>1</td>\n",
              "      <td>0</td>\n",
              "      <td>0</td>\n",
              "      <td>0</td>\n",
              "      <td>1</td>\n",
              "      <td>0</td>\n",
              "      <td>0</td>\n",
              "      <td>0</td>\n",
              "      <td>1</td>\n",
              "      <td>0</td>\n",
              "      <td>0</td>\n",
              "      <td>1</td>\n",
              "      <td>0</td>\n",
              "      <td>0</td>\n",
              "      <td>0</td>\n",
              "      <td>0</td>\n",
              "      <td>0</td>\n",
              "      <td>0</td>\n",
              "      <td>0</td>\n",
              "      <td>1</td>\n",
              "      <td>0</td>\n",
              "      <td>0</td>\n",
              "      <td>0</td>\n",
              "      <td>0.0</td>\n",
              "    </tr>\n",
              "    <tr>\n",
              "      <th>19155</th>\n",
              "      <td>24576</td>\n",
              "      <td>5</td>\n",
              "      <td>0.920</td>\n",
              "      <td>0</td>\n",
              "      <td>21</td>\n",
              "      <td>4</td>\n",
              "      <td>44</td>\n",
              "      <td>0</td>\n",
              "      <td>1</td>\n",
              "      <td>0</td>\n",
              "      <td>0</td>\n",
              "      <td>1</td>\n",
              "      <td>0</td>\n",
              "      <td>0</td>\n",
              "      <td>0</td>\n",
              "      <td>0</td>\n",
              "      <td>0</td>\n",
              "      <td>1</td>\n",
              "      <td>0</td>\n",
              "      <td>0</td>\n",
              "      <td>0</td>\n",
              "      <td>0</td>\n",
              "      <td>1</td>\n",
              "      <td>0</td>\n",
              "      <td>0</td>\n",
              "      <td>0</td>\n",
              "      <td>0</td>\n",
              "      <td>0</td>\n",
              "      <td>0</td>\n",
              "      <td>1</td>\n",
              "      <td>0.0</td>\n",
              "    </tr>\n",
              "  </tbody>\n",
              "</table>\n",
              "<p>8955 rows × 31 columns</p>\n",
              "</div>"
            ],
            "text/plain": [
              "       enrollee_id  city  ...  companyType_Pvt Ltd  target\n",
              "1            29725    72  ...                    1     0.0\n",
              "4              666    48  ...                    0     0.0\n",
              "7              402    78  ...                    1     1.0\n",
              "8            27107     5  ...                    1     1.0\n",
              "11           23853     5  ...                    1     0.0\n",
              "...            ...   ...  ...                  ...     ...\n",
              "19147        21319    60  ...                    1     1.0\n",
              "19149          251     5  ...                    1     1.0\n",
              "19150        32313    47  ...                    0     0.0\n",
              "19152        29754     5  ...                    0     0.0\n",
              "19155        24576     5  ...                    1     0.0\n",
              "\n",
              "[8955 rows x 31 columns]"
            ]
          },
          "metadata": {
            "tags": []
          },
          "execution_count": 97
        },
        {
          "output_type": "stream",
          "text": [
            "time: 68.1 ms (started: 2021-03-28 18:58:19 +00:00)\n"
          ],
          "name": "stdout"
        }
      ]
    },
    {
      "cell_type": "code",
      "metadata": {
        "colab": {
          "base_uri": "https://localhost:8080/"
        },
        "id": "KnUKDhsnJZtX",
        "outputId": "ee1e22e8-1cf8-4289-8037-4ac53444e506"
      },
      "source": [
        "np.reshape(X_test[0,:],(-1,29))"
      ],
      "execution_count": 80,
      "outputs": [
        {
          "output_type": "execute_result",
          "data": {
            "text/plain": [
              "array([[ 0.62336122, -1.90657105, -0.3797712 , -0.70654393,  0.38975983,\n",
              "         1.37501955, -0.31428173,  0.33115771, -0.31320812, -0.25735208,\n",
              "         0.65831098, -0.61370462, -0.12429817, -0.13858624, -0.21231247,\n",
              "        -0.10826591,  0.3467711 , -0.33555197, -0.50744847, -0.33812085,\n",
              "        -0.43977642, -0.53646468,  4.64751214, -0.32436775, -0.21338733,\n",
              "        -0.315353  , -0.20686894, -0.26437185,  0.57412662]])"
            ]
          },
          "metadata": {
            "tags": []
          },
          "execution_count": 80
        },
        {
          "output_type": "stream",
          "text": [
            "time: 8.59 ms (started: 2021-03-28 18:46:17 +00:00)\n"
          ],
          "name": "stdout"
        }
      ]
    },
    {
      "cell_type": "markdown",
      "metadata": {
        "id": "1HTcMD5tVPqO"
      },
      "source": [
        "# Data Analysis"
      ]
    },
    {
      "cell_type": "code",
      "metadata": {
        "colab": {
          "base_uri": "https://localhost:8080/"
        },
        "id": "53RGFVwOVoGj",
        "outputId": "c8d5237c-2d39-4d4c-f71a-032ba4a46dfd"
      },
      "source": [
        "#Todo: Importing the traning Dataset\n",
        "dataset = pd.read_csv('aug_train.csv')\n",
        "\n",
        "#Todo: Taking care of missing data\n",
        "dataset = dataset.dropna()\n",
        "\n",
        "#Todo: onehotencoding the city col\n",
        "labelencoder = LabelEncoder()\n",
        "dataset['city'] = labelencoder.fit_transform(dataset['city'])\n",
        "#todo: oneHot encoding the gender col\n",
        "dataset = pd.get_dummies(dataset, columns=[\"gender\"], prefix=[\"\"])\n",
        "dataset = dataset.drop(['_Other'], axis=1)\n",
        "\n",
        "#Todo: Label encoding the experience relevences col\n",
        "labelencoder = LabelEncoder()\n",
        "dataset['relevent_experience'] = labelencoder.fit_transform(dataset['relevent_experience'])\n",
        "\n",
        "#todo: onehotencoding the enrolled university col\n",
        "dataset = pd.get_dummies(dataset, columns=[\"enrolled_university\"], prefix=[\"\"])\n",
        "dataset = dataset.drop(['_no_enrollment'], axis=1)\n",
        "\n",
        "#todo: onehotencoding the education_level col\n",
        "dataset.rename(columns = {'education_level':'education'}, inplace = True)\n",
        "dataset = pd.get_dummies(dataset, columns=[\"education\"], prefix=[\"Education\"])\n",
        "dataset = dataset.drop(['Education_Phd'], axis=1)\n",
        "\n",
        "#todo: onehotencoding the major discipline col\n",
        "dataset = pd.get_dummies(dataset, columns=[\"major_discipline\"], prefix=[\"MajorDegreeIn\"])\n",
        "dataset = dataset.drop(['MajorDegreeIn_Other'], axis=1)\n",
        "\n",
        "#todo: replacing '>20' with 21 in the experience col\n",
        "dataset[\"experience\"].replace({\"<1\": \"0\", \">20\": \"21\"}, inplace=True)\n",
        "\n",
        "#todo: onehotencoding the company size col\n",
        "dataset = pd.get_dummies(dataset, columns=[\"company_size\"], prefix=[\"companySize\"])\n",
        "dataset = dataset.drop(['companySize_500-999'], axis=1)\n",
        "\n",
        "#todo: onehotencoding the company_type col\n",
        "dataset = pd.get_dummies(dataset, columns=[\"company_type\"], prefix=[\"companyType\"])\n",
        "dataset = dataset.drop(['companyType_Other'], axis=1)\n",
        "\n",
        "#todo: replace '>4' with 5  in the last_new jod col\n",
        "dataset[\"last_new_job\"].replace({\"never\": \"0\", \">4\": \"5\"}, inplace=True)\n",
        "\n",
        "#todo: coverting the columns to numeric\n",
        "dataset.apply(pd.to_numeric)\n",
        "\n",
        "\n",
        "#todo: moving the target column to the last\n",
        "cols = list(dataset.columns.values)\n",
        "cols.pop(cols.index('target'))\n",
        "dataset = dataset[cols+['target']]"
      ],
      "execution_count": 85,
      "outputs": [
        {
          "output_type": "stream",
          "text": [
            "time: 167 ms (started: 2021-03-26 13:57:36 +00:00)\n"
          ],
          "name": "stdout"
        }
      ]
    },
    {
      "cell_type": "markdown",
      "metadata": {
        "id": "TfbOuSzXV6HC"
      },
      "source": [
        "# Relevance Checking"
      ]
    },
    {
      "cell_type": "code",
      "metadata": {
        "colab": {
          "base_uri": "https://localhost:8080/",
          "height": 453
        },
        "id": "qGtbRZKPVwsK",
        "outputId": "96fbf034-f066-41b7-889d-2d716866c328"
      },
      "source": [
        "X= dataset.iloc[:,1:-1]\n",
        "y= dataset.iloc[:,-1]\n",
        "\n",
        "from  sklearn.model_selection import train_test_split\n",
        "X_train, X_test, y_train, y_test = train_test_split(X, y, test_size = 0.25, random_state = 0)\n",
        "from sklearn.ensemble import RandomForestClassifier\n",
        "model= RandomForestClassifier(n_estimators=100)\n",
        "model.fit(X_train,y_train)\n",
        "var_select= pd.Series(model.feature_importances_, index = X.columns.values).sort_values(ascending=False)\n",
        "var_select = var_select*100\n",
        "\n",
        "\n",
        "var_select.plot.bar(x=\"Features\", y=\"Level of relevance\", rot=70, title=\"HR Analytics\");\n"
      ],
      "execution_count": 86,
      "outputs": [
        {
          "output_type": "display_data",
          "data": {
            "image/png": "[encoded data removed]",
            "text/plain": [
              "<Figure size 432x288 with 1 Axes>"
            ]
          },
          "metadata": {
            "tags": [],
            "needs_background": "light"
          }
        },
        {
          "output_type": "stream",
          "text": [
            "time: 1.33 s (started: 2021-03-26 13:57:36 +00:00)\n"
          ],
          "name": "stdout"
        }
      ]
    }
  ]
}